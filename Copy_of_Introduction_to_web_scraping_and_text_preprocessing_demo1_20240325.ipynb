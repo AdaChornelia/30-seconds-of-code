{
  "nbformat": 4,
  "nbformat_minor": 0,
  "metadata": {
    "colab": {
      "provenance": [],
      "include_colab_link": true
    },
    "kernelspec": {
      "name": "python3",
      "display_name": "Python 3"
    },
    "language_info": {
      "name": "python"
    }
  },
  "cells": [
    {
      "cell_type": "markdown",
      "metadata": {
        "id": "view-in-github",
        "colab_type": "text"
      },
      "source": [
        "<a href=\"https://colab.research.google.com/github/AdaChornelia/30-seconds-of-code/blob/master/Copy_of_Introduction_to_web_scraping_and_text_preprocessing_demo1_20240325.ipynb\" target=\"_parent\"><img src=\"https://colab.research.google.com/assets/colab-badge.svg\" alt=\"Open In Colab\"/></a>"
      ]
    },
    {
      "cell_type": "markdown",
      "source": [
        "# Introduction to the web scraping and text preprocessing Demo1\n",
        "\n",
        "Welcome to this seminars for the Research data academy organized by the HKU Libraries.\n",
        "\n",
        "\n"
      ],
      "metadata": {
        "id": "ML5mL-55uSUb"
      }
    },
    {
      "cell_type": "markdown",
      "source": [
        "# The basic workflow"
      ],
      "metadata": {
        "id": "GiKwWKbS8ELD"
      }
    },
    {
      "cell_type": "markdown",
      "source": [
        "## Part 0: Prepare Environment"
      ],
      "metadata": {
        "id": "rgTIRrtkDe8S"
      }
    },
    {
      "cell_type": "markdown",
      "source": [
        "If you are using your local PC, you have to install packages for your python environment before using this iPython Notebook file.\n",
        "\n",
        "You can uncomment the following command by removing the # to download the packages"
      ],
      "metadata": {
        "id": "6TUUpa1GLLQ8"
      }
    },
    {
      "cell_type": "code",
      "source": [
        "#!pip install bs4 requests"
      ],
      "metadata": {
        "id": "L3CsjuC4Diky"
      },
      "execution_count": 25,
      "outputs": []
    },
    {
      "cell_type": "markdown",
      "source": [
        "## Part 1: Your First Scraper"
      ],
      "metadata": {
        "id": "mOL_4MnrBlJa"
      }
    },
    {
      "cell_type": "markdown",
      "source": [
        "**Step 1: import required library**"
      ],
      "metadata": {
        "id": "nUVpfo3VbIa9"
      }
    },
    {
      "cell_type": "code",
      "source": [
        "from urllib.request import urlopen"
      ],
      "metadata": {
        "id": "SPGA-KY6BSyJ"
      },
      "execution_count": 26,
      "outputs": []
    },
    {
      "cell_type": "markdown",
      "source": [
        "**Step 2: Initialize a variable to store the url string**"
      ],
      "metadata": {
        "id": "QqXN6-69bOXN"
      }
    },
    {
      "cell_type": "code",
      "source": [
        "url = \"https://lib.hku.hk\""
      ],
      "metadata": {
        "id": "1dtP3maQBVc4"
      },
      "execution_count": 27,
      "outputs": []
    },
    {
      "cell_type": "markdown",
      "source": [
        "**Step 3: Send the request to the target url**"
      ],
      "metadata": {
        "id": "ULGX-6e0bWw9"
      }
    },
    {
      "cell_type": "code",
      "source": [
        "response = urlopen(url)"
      ],
      "metadata": {
        "id": "i490NdfaBWxg"
      },
      "execution_count": 28,
      "outputs": []
    },
    {
      "cell_type": "markdown",
      "source": [
        "and the you will get the http response object"
      ],
      "metadata": {
        "id": "JDPPXGXVbeB9"
      }
    },
    {
      "cell_type": "code",
      "source": [
        "response"
      ],
      "metadata": {
        "id": "pClp7mndBYKQ",
        "colab": {
          "base_uri": "https://localhost:8080/"
        },
        "outputId": "00c17559-d93e-4b78-fd3f-36f5c31dc247"
      },
      "execution_count": 29,
      "outputs": [
        {
          "output_type": "execute_result",
          "data": {
            "text/plain": [
              "<http.client.HTTPResponse at 0x7d2d90172cb0>"
            ]
          },
          "metadata": {},
          "execution_count": 29
        }
      ]
    },
    {
      "cell_type": "markdown",
      "source": [
        "**Step 4: read the bytes from the response**"
      ],
      "metadata": {
        "id": "oiVx8SI_bow1"
      }
    },
    {
      "cell_type": "code",
      "source": [
        "html_bytes = response.read()"
      ],
      "metadata": {
        "id": "2P9--Wh_BaxQ"
      },
      "execution_count": 30,
      "outputs": []
    },
    {
      "cell_type": "markdown",
      "source": [
        "\n",
        "<img src=\"https://upload.wikimedia.org/wikipedia/commons/9/92/Bits_and_Bytes.svg\" width=\"400\">\n",
        "\n",
        "\n",
        "Any file is just a series of bytes stored on the disk.\n",
        "A string is a sequence of characters that cannot be directly stored on disk. On the other hand, a byte string is a sequence of bytes - things that can be stored on disk. The relationship between them is known as encoding.\n",
        "\n",
        "In order to properly read text from a file, we need to decode the file on disk with the correct encoding. Similarly, we need to encode the string to bytes before saving it on disk.\n",
        "\n",
        "To print a bytes string in Python, we use a prefix 'b' which is decoded with ASCII automatically."
      ],
      "metadata": {
        "id": "7ENc2RWYcLtw"
      }
    },
    {
      "cell_type": "code",
      "source": [
        "print(html_bytes)"
      ],
      "metadata": {
        "id": "aYh7QZJSEDma",
        "colab": {
          "base_uri": "https://localhost:8080/"
        },
        "outputId": "b4f9f95e-ec82-4ad8-810c-e6d573e78d29"
      },
      "execution_count": 31,
      "outputs": [
        {
          "output_type": "stream",
          "name": "stdout",
          "text": [
            "b'<!DOCTYPE html>\\n<html lang=\"en\" dir=\"ltr\" prefix=\"content: http://purl.org/rss/1.0/modules/content/ dc: http://purl.org/dc/terms/ foaf: http://xmlns.com/foaf/0.1/ og: http://ogp.me/ns# rdfs: http://www.w3.org/2000/01/rdf-schema# sioc: http://rdfs.org/sioc/ns# sioct: http://rdfs.org/sioc/types# skos: http://www.w3.org/2004/02/skos/core# xsd: http://www.w3.org/2001/XMLSchema#\">\\n<head>\\n<meta name=\"viewport\" content=\"width=device-width, initial-scale=1.0\">\\n<meta http-equiv=\"X-UA-Compatible\" content=\"IE=edge\"> \\n<meta http-equiv=\"Content-Type\" content=\"text/html; charset=utf-8\" />\\n<link rel=\"shortcut icon\" href=\"/sites/all/themes/bootstrap/hkul_subtheme/favicon.ico\" type=\"image/vnd.microsoft.icon\" />\\n<title>HKU Libraries</title>\\n<style>\\n@import url(\"/modules/system/system.base.css?\");\\n</style>\\n<style media=\"screen\">\\n@import url(\"/sites/all/modules/tipsy/stylesheets/tipsy.css?\");\\n</style>\\n<style media=\"screen\">\\n@import url(\"/sites/all/modules/views_slideshow/views_slideshow.css?\");\\n</style>\\n<style>\\n@import url(\"/sites/all/modules/date/date_api/date.css?\");\\n@import url(\"/sites/all/modules/date/date_popup/themes/datepicker.1.7.css?\");\\n@import url(\"/modules/field/theme/field.css?\");\\n@import url(\"/modules/node/node.css?\");\\n@import url(\"/sites/all/modules/office_hours/office_hours.css?\");\\n@import url(\"/sites/all/modules/extlink/extlink.css?\");\\n@import url(\"/sites/all/modules/views/css/views.css?\");\\n@import url(\"/sites/all/modules/ckeditor/css/ckeditor.css?\");\\n</style>\\n<style>\\n@import url(\"/sites/all/modules/ctools/css/ctools.css?\");\\n@import url(\"/sites/all/modules/nice_menus/css/nice_menus.css?\");\\n@import url(\"/sites/all/modules/nice_menus/css/nice_menus_default.css?\");\\n@import url(\"/sites/all/modules/views_slideshow/views_slideshow_controls_text.css?\");\\n@import url(\"/sites/all/modules/views_slideshow/contrib/views_slideshow_cycle/views_slideshow_cycle.css?\");\\n</style>\\n<style>\\n@import url(\"/sites/all/themes/bootstrap/hkul_subtheme/bootstrap%403.4.1/dist/css/bootstrap.css?\");\\n@import url(\"/sites/all/themes/bootstrap/hkul_subtheme/css/style.css?\");\\n@import url(\"/sites/all/themes/bootstrap/hkul_subtheme/css/bpopup.css?\");\\n</style>\\n<!-- HTML5 element support for IE6-8 -->\\n<!--[if lt IE 9]>\\n<script src=\"https://cdn.jsdelivr.net/html5shiv/3.7.3/html5shiv-printshiv.min.js\"></script>\\n<![endif]-->\\n<!-- Google tag (gtag.js) -->\\n<script async src=\"https://www.googletagmanager.com/gtag/js?id=G-QBR9F13SC2\"></script>\\n<script> window.dataLayer = window.dataLayer || []; function gtag(){dataLayer.push(arguments);} gtag(\\'js\\', new Date()); gtag(\\'config\\', \\'G-QBR9F13SC2\\', {\\'cookie_domain\\': \\'lib.hku.hk\\'}); </script>\\n<script src=\"/sites/all/modules/jquery_update/replace/jquery/2.1/jquery.min.js?v=2.1.4\"></script>\\n<script src=\"/misc/jquery-extend-3.4.0.js?v=2.1.4\"></script>\\n<script src=\"/misc/jquery-html-prefilter-3.5.0-backport.js?v=2.1.4\"></script>\\n<script src=\"/misc/jquery.once.js?v=1.2\"></script>\\n<script src=\"/misc/drupal.js?\"></script>\\n<script src=\"/sites/all/modules/tipsy/javascripts/jquery.tipsy.js?v=0.1.7\"></script>\\n<script src=\"/sites/all/modules/tipsy/javascripts/tipsy.js?v=0.1.7\"></script>\\n<script src=\"/sites/all/modules/nice_menus/js/jquery.bgiframe.js?v=2.1\"></script>\\n<script src=\"/sites/all/modules/nice_menus/js/jquery.hoverIntent.js?v=0.5\"></script>\\n<script src=\"/sites/all/modules/nice_menus/js/superfish.js?v=1.4.8\"></script>\\n<script src=\"/sites/all/modules/nice_menus/js/nice_menus.js?v=1.0\"></script>\\n<script src=\"/sites/all/modules/views_slideshow/js/views_slideshow.js?v=1.0\"></script>\\n<script src=\"/sites/all/modules/extlink/extlink.js?\"></script>\\n<script src=\"/sites/all/libraries/jquery.cycle/jquery.cycle.all.js?\"></script>\\n<script src=\"/sites/all/modules/views_slideshow/contrib/views_slideshow_cycle/js/views_slideshow_cycle.js?\"></script>\\n<script src=\"/sites/all/themes/bootstrap/hkul_subtheme/bootstrap%403.4.1/dist/js/bootstrap.js?\"></script>\\n<script src=\"/sites/all/themes/bootstrap/hkul_subtheme/js/hkul.js?\"></script>\\n<script src=\"/sites/all/themes/bootstrap/hkul_subtheme/js/jquery.cookie.js?\"></script>\\n<script src=\"/sites/all/themes/bootstrap/hkul_subtheme/js/fontresize.js?\"></script>\\n<script src=\"/sites/all/themes/bootstrap/hkul_subtheme/js/jquery.bpopup.min.js?\"></script>\\n<script>jQuery.extend(Drupal.settings, {\"basePath\":\"\\\\/\",\"pathPrefix\":\"\",\"setHasJsCookie\":0,\"ajaxPageState\":{\"theme\":\"hkul_subtheme\",\"theme_token\":\"MKQek-MyZR-wJFOtWK2uqOixKUE5CpCSsLhpY-3K564\",\"js\":{\"sites\\\\/all\\\\/themes\\\\/bootstrap\\\\/js\\\\/bootstrap.js\":1,\"sites\\\\/all\\\\/modules\\\\/jquery_update\\\\/replace\\\\/jquery\\\\/2.1\\\\/jquery.min.js\":1,\"misc\\\\/jquery-extend-3.4.0.js\":1,\"misc\\\\/jquery-html-prefilter-3.5.0-backport.js\":1,\"misc\\\\/jquery.once.js\":1,\"misc\\\\/drupal.js\":1,\"sites\\\\/all\\\\/modules\\\\/tipsy\\\\/javascripts\\\\/jquery.tipsy.js\":1,\"sites\\\\/all\\\\/modules\\\\/tipsy\\\\/javascripts\\\\/tipsy.js\":1,\"sites\\\\/all\\\\/modules\\\\/nice_menus\\\\/js\\\\/jquery.bgiframe.js\":1,\"sites\\\\/all\\\\/modules\\\\/nice_menus\\\\/js\\\\/jquery.hoverIntent.js\":1,\"sites\\\\/all\\\\/modules\\\\/nice_menus\\\\/js\\\\/superfish.js\":1,\"sites\\\\/all\\\\/modules\\\\/nice_menus\\\\/js\\\\/nice_menus.js\":1,\"sites\\\\/all\\\\/modules\\\\/views_slideshow\\\\/js\\\\/views_slideshow.js\":1,\"sites\\\\/all\\\\/modules\\\\/extlink\\\\/extlink.js\":1,\"sites\\\\/all\\\\/libraries\\\\/jquery.cycle\\\\/jquery.cycle.all.js\":1,\"sites\\\\/all\\\\/modules\\\\/views_slideshow\\\\/contrib\\\\/views_slideshow_cycle\\\\/js\\\\/views_slideshow_cycle.js\":1,\"sites\\\\/all\\\\/themes\\\\/bootstrap\\\\/hkul_subtheme\\\\/bootstrap@3.4.1\\\\/dist\\\\/js\\\\/bootstrap.js\":1,\"sites\\\\/all\\\\/themes\\\\/bootstrap\\\\/hkul_subtheme\\\\/js\\\\/hkul.js\":1,\"sites\\\\/all\\\\/themes\\\\/bootstrap\\\\/hkul_subtheme\\\\/js\\\\/jquery.cookie.js\":1,\"sites\\\\/all\\\\/themes\\\\/bootstrap\\\\/hkul_subtheme\\\\/js\\\\/fontresize.js\":1,\"sites\\\\/all\\\\/themes\\\\/bootstrap\\\\/hkul_subtheme\\\\/js\\\\/jquery.bpopup.min.js\":1},\"css\":{\"modules\\\\/system\\\\/system.base.css\":1,\"sites\\\\/all\\\\/modules\\\\/tipsy\\\\/stylesheets\\\\/tipsy.css\":1,\"sites\\\\/all\\\\/modules\\\\/views_slideshow\\\\/views_slideshow.css\":1,\"sites\\\\/all\\\\/modules\\\\/date\\\\/date_api\\\\/date.css\":1,\"sites\\\\/all\\\\/modules\\\\/date\\\\/date_popup\\\\/themes\\\\/datepicker.1.7.css\":1,\"modules\\\\/field\\\\/theme\\\\/field.css\":1,\"modules\\\\/node\\\\/node.css\":1,\"sites\\\\/all\\\\/modules\\\\/office_hours\\\\/office_hours.css\":1,\"sites\\\\/all\\\\/modules\\\\/extlink\\\\/extlink.css\":1,\"sites\\\\/all\\\\/modules\\\\/views\\\\/css\\\\/views.css\":1,\"sites\\\\/all\\\\/modules\\\\/ckeditor\\\\/css\\\\/ckeditor.css\":1,\"sites\\\\/all\\\\/modules\\\\/ctools\\\\/css\\\\/ctools.css\":1,\"sites\\\\/all\\\\/modules\\\\/nice_menus\\\\/css\\\\/nice_menus.css\":1,\"sites\\\\/all\\\\/modules\\\\/nice_menus\\\\/css\\\\/nice_menus_default.css\":1,\"sites\\\\/all\\\\/modules\\\\/views_slideshow\\\\/views_slideshow_controls_text.css\":1,\"sites\\\\/all\\\\/modules\\\\/views_slideshow\\\\/contrib\\\\/views_slideshow_cycle\\\\/views_slideshow_cycle.css\":1,\"sites\\\\/all\\\\/themes\\\\/bootstrap\\\\/hkul_subtheme\\\\/bootstrap@3.4.1\\\\/dist\\\\/css\\\\/bootstrap.css\":1,\"sites\\\\/all\\\\/themes\\\\/bootstrap\\\\/hkul_subtheme\\\\/css\\\\/style.css\":1,\"sites\\\\/all\\\\/themes\\\\/bootstrap\\\\/hkul_subtheme\\\\/css\\\\/bpopup.css\":1}},\"tipsy\":{\"custom_selectors\":[{\"selector\":\".tipsy\",\"options\":{\"fade\":1,\"gravity\":\"w\",\"delayIn\":0,\"delayOut\":0,\"trigger\":\"hover\",\"opacity\":\"0.8\",\"offset\":0,\"html\":0,\"tooltip_content\":{\"source\":\"attribute\",\"selector\":\"title\"}}}]},\"nice_menus_options\":{\"delay\":\"800\",\"speed\":\"slow\"},\"extlink\":{\"extTarget\":\"_blank\",\"extClass\":0,\"extLabel\":\"(link is external)\",\"extImgClass\":0,\"extSubdomains\":1,\"extExclude\":\"\",\"extInclude\":\"\",\"extCssExclude\":\"\",\"extCssExplicit\":\"\",\"extAlert\":0,\"extAlertText\":\"This link will take you to an external web site.\",\"mailtoClass\":0,\"mailtoLabel\":\"(link sends e-mail)\"},\"viewsSlideshow\":{\"slides-default\":{\"methods\":{\"goToSlide\":[\"viewsSlideshowPager\",\"viewsSlideshowSlideCounter\",\"viewsSlideshowCycle\"],\"nextSlide\":[\"viewsSlideshowPager\",\"viewsSlideshowSlideCounter\",\"viewsSlideshowCycle\"],\"pause\":[\"viewsSlideshowControls\",\"viewsSlideshowCycle\"],\"play\":[\"viewsSlideshowControls\",\"viewsSlideshowCycle\"],\"previousSlide\":[\"viewsSlideshowPager\",\"viewsSlideshowSlideCounter\",\"viewsSlideshowCycle\"],\"transitionBegin\":[\"viewsSlideshowPager\",\"viewsSlideshowSlideCounter\"],\"transitionEnd\":[]},\"paused\":0}},\"viewsSlideshowControls\":{\"slides-default\":{\"bottom\":{\"type\":\"viewsSlideshowControlsText\"}}},\"viewsSlideshowCycle\":{\"#views_slideshow_cycle_main_slides-default\":{\"num_divs\":9,\"id_prefix\":\"#views_slideshow_cycle_main_\",\"div_prefix\":\"#views_slideshow_cycle_div_\",\"vss_id\":\"slides-default\",\"effect\":\"fade\",\"transition_advanced\":0,\"timeout\":5000,\"speed\":700,\"delay\":0,\"sync\":1,\"random\":0,\"pause\":1,\"pause_on_click\":0,\"action_advanced\":0,\"start_paused\":0,\"remember_slide\":0,\"remember_slide_days\":1,\"pause_in_middle\":0,\"pause_when_hidden\":0,\"pause_when_hidden_type\":\"full\",\"amount_allowed_visible\":\"\",\"nowrap\":0,\"fixed_height\":1,\"items_per_slide\":1,\"wait_for_image_load\":1,\"wait_for_image_load_timeout\":3000,\"cleartype\":0,\"cleartypenobg\":0,\"advanced_options\":\"{}\"}},\"bootstrap\":{\"anchorsFix\":\"0\",\"anchorsSmoothScrolling\":\"0\",\"formHasError\":1,\"popoverEnabled\":1,\"popoverOptions\":{\"animation\":1,\"html\":0,\"placement\":\"right\",\"selector\":\"\",\"trigger\":\"click\",\"triggerAutoclose\":1,\"title\":\"\",\"content\":\"\",\"delay\":0,\"container\":\"body\"},\"tooltipEnabled\":1,\"tooltipOptions\":{\"animation\":1,\"html\":0,\"placement\":\"auto left\",\"selector\":\"\",\"trigger\":\"hover focus\",\"delay\":0,\"container\":\"body\"}}});</script>\\n</head>\\n<body class=\"html front not-logged-in no-sidebars page-node page-node- page-node-2 node-type-home\">\\n  <div id=\"skip-link\">\\n    <a href=\"#main-content\" class=\"element-invisible\">Skip to main content</a>\\n  </div>\\n\\n<div id=\"popup-hko\"></div>\\n\\n<div class=\"main-container container\">\\n<header role=\"banner\" id=\"page-header\">\\n  <div class=\"region region-header\">\\n    <section id=\"block-block-7\" class=\"block block-block clearfix\">\\n\\n      \\n  <div class=\"site-logo\"><a href=\"/\"><img alt=\"HKU Libraries\" src=\"/sites/all/themes/bootstrap/hkul_subtheme/images/hkul-logo@2x.png\" /></a></div>\\n<!--\\n<div class=\"site-logo2\"><p><a href=\"https://www.hkul110.hku.hk/\"><img alt=\"HKUL110\" src=\"/sites/all/themes/bootstrap/hkul_subtheme/images/hkul110-logo.svg\" width=\"250px\" /></a></div>\\n<p>-->\\n<div class=\"header-top\">\\n<div><a class=\"highcontrast\" href=\"#\" id=\"highcontrast\" title=\"Change to High Colour Contrast Version\">High Contrast</a><a class=\"normalcontrast\" href=\"#\" id=\"normalcontrast\" style=\"display:none;\" title=\"Change to Normal Colour Contrast Version\">Normal Contrast</a></div>\\n<div><a class=\"norfont\" href=\"#\" id=\"norfont\" title=\"Text Size: Default Size\"><span class=\"access\">Text Size: Large (</span>A<span class=\"access\">) /</span></a> <a class=\"incfont\" href=\"#\" id=\"incfont\" title=\"Text Size: Larger\"><span class=\"access\">Text Size: Larger (</span>A<span class=\"access\">) /</span></a> <a class=\"inc2font\" href=\"#\" id=\"inc2font\" title=\"Text Size: Largest\"><span class=\"access\">Text Size: Largest (</span>A<span class=\"access\">)</span></a></div>\\n</div>\\n<div class=\"header-bottom\"><a class=\"button green\" href=\"https://julac-hku.primo.exlibrisgroup.com/discovery/account?vid=852JULAC_HKU:HKU&amp;section=overview&amp;lang=en\" target=\"_blank\">MyAccount @HKUL</a> <span class=\"access\"> / </span> <a class=\"button blue\" href=\"/general/e-form/book-a-space.html\">Book A Space</a> <span class=\"access\"> / </span> <a class=\"button orange\" href=\"/general/e-form/index.html\">e-Forms</a></div>\\n\\n</section>\\n  </div>\\n </header>\\n<!-- /#page-header -->\\n\\n<div class=\"row\">\\n<section class=\"col-sm-12\">\\n<div class=\"region-content\">\\n<a id=\"main-content\"></a> \\n<h1 class=\"page-header\">Library Home Page</h1>\\n<div class=\"home-upper-container\">\\n<div class=\"region-content\">\\n<div class=\"row greeting\">\\n<div class=\"col-sm-12\">\\n<div class=\"greetingmsg\"></div>\\n</div>\\n</div>\\n<div class=\"row search\">\\n<div class=\"col-sm-12\"><div class=\"view view-home-search view-id-home_search view-display-id-default view-dom-id-9ff4b270614cf9d93e0bcf1f05117449\">\\n        \\n  \\n  \\n      <div class=\"view-content\">\\n        <div class=\"views-row views-row-1 views-row-odd views-row-first views-row-last\">\\n      \\n  <div class=\"views-field views-field-body\">        <div class=\"field-content\"><div class=\"search-tabs-nav\">\\n<div class=\"prev\">\\xc2\\xa0</div>\\n<div class=\"next\">\\xc2\\xa0</div>\\n</div>\\n<div class=\"search-tabs-container\">\\n<div class=\"search-tabs\"><a class=\"search-tab find active\" href=\"#\">Find@HKUL</a> <a class=\"search-tab advanced\" href=\"#\">Author / Title</a> <a class=\"search-tab electronic\" href=\"#\">Electronic Resources</a> <a class=\"search-tab reading\" href=\"#\">Reading List</a> <a class=\"search-tab site\" href=\"#\">Site Search</a> <a class=\"search-tab adv_search_link\" href=\"#\">Advanced Search</a></div>\\n</div>\\n<!--class-findit-form--><div class=\"search-bar find active\">\\n<form action=\"https://julac-hku.primo.exlibrisgroup.com/discovery/search\" enctype=\"application/x-www-form-urlencoded\" id=\"class-findit-form\" method=\"get\" name=\"class-findit-form\">\\n\\t\\t<label class=\"access\" for=\"search_field\">Search the Libraries Collections</label><br />\\n\\t\\t<input id=\"search_field\" name=\"vl(freeText0)\" placeholder=\"Search the Libraries Collections\" type=\"text\" /><br />\\n\\t\\t<label class=\"access\" for=\"search_scope\">Search Scope</label><br />\\n\\t\\t<br />\\n<select id=\"search_scope\" name=\"search_scope\">\\n\\t\\t\\t<option value=\"MyInst_and_CI\">Books &amp; Articles+</option><br />\\n\\t\\t\\t<option value=\"MyInstitution\">Books+</option><br />\\n\\t\\t\\t<option value=\"CentralIndex\">Articles+</option><br />\\n\\t\\t\\t<option value=\"DN_and_CI\">Beyond HKU (HKALL + Interlibrary Loan)</option><br />\\n\\t\\t</select>\\n<p>\\n\\t\\t\\t<input id=\"submit-findit-form\" title=\"Search\" type=\"button\" value=\"Search\" />\\n\\t\\t</p>\\n<div class=\"hiddeninput\">\\n\\t\\t\\t<input id=\"mode\" name=\"mode\" type=\"hidden\" value=\"Basic\" /><br />\\n\\t\\t\\t<input name=\"vid\" type=\"hidden\" value=\"852JULAC_HKU:HKU\" /><br />\\n\\t\\t\\t<input name=\"displayMode\" type=\"hidden\" value=\"full\" /><br />\\n\\t\\t\\t<input name=\"bulkSize\" type=\"hidden\" value=\"20\" /><br />\\n\\t\\t\\t<input name=\"highlight\" type=\"hidden\" value=\"true\" /><br />\\n\\t\\t\\t<input name=\"dum\" type=\"hidden\" value=\"true\" /><br />\\n\\t\\t\\t<input id=\"searchQuery\" name=\"query\" type=\"hidden\" /><br />\\n\\t\\t\\t<input name=\"displayField\" type=\"hidden\" value=\"all\" /><br />\\n\\t\\t\\t<input id=\"tab\" name=\"tab\" type=\"hidden\" value=\"Everything\" />\\n\\t\\t</div>\\n</form>\\n</div>\\n<!--advanced search--><div class=\"search-bar advanced\">\\n<form action=\"https://julac-hku.primo.exlibrisgroup.com/discovery/search\" enctype=\"application/x-www-form-urlencoded\" id=\"book-form\" method=\"get\" name=\"book-form\">\\n\\t\\t<label class=\"access\" for=\"primo_bk_title\">Book Title</label><br />\\n\\t\\t<input id=\"primo_bk_title\" placeholder=\"Book Title\" type=\"text\" /><br />\\n\\t\\t<span class=\"seperator\"> </span><br />\\n\\t\\t<label class=\"access\" for=\"primo_author\">Book Author</label><br />\\n\\t\\t<input id=\"primo_author\" placeholder=\"Book Author\" type=\"text\" /><br />\\n\\t\\t<input id=\"submit-book-form\" title=\"Search\" type=\"button\" value=\"Search\" />\\n<div class=\"hiddeninput\">\\n\\t\\t\\t<input name=\"mode\" type=\"hidden\" value=\"advanced\" /><br />\\n\\t\\t\\t<input name=\"search_scope\" type=\"hidden\" value=\"MyInstitution\" /><br />\\n\\t\\t\\t<input name=\"tab\" type=\"hidden\" value=\"LibraryCatalog\" /><br />\\n\\t\\t\\t<input name=\"pfilter\" type=\"hidden\" value=\"rtype,exact,books\" /><br />\\n\\t\\t\\t<input id=\"book_author_query\" name=\"query\" type=\"hidden\" /><br />\\n\\t\\t\\t<input id=\"book_bk_title_query\" name=\"query\" type=\"hidden\" /><br />\\n\\t\\t\\t<input name=\"vid\" type=\"hidden\" value=\"852JULAC_HKU:HKU\" />\\n\\t\\t</div>\\n</form>\\n<form action=\"https://julac-hku.primo.exlibrisgroup.com/discovery/search\" enctype=\"application/x-www-form-urlencoded\" id=\"journal-form\" method=\"get\" name=\"journal-form\">\\n\\t\\t<label class=\"access\" for=\"article_title\">Article Title</label><br />\\n\\t\\t<input id=\"article_title\" placeholder=\"Article Title\" type=\"text\" /><br />\\n\\t\\t<input id=\"submit-journal-form\" title=\"Search\" type=\"button\" value=\"Search\" />\\n<div class=\"hiddeninput\">\\n\\t\\t\\t<input name=\"mode\" type=\"hidden\" value=\"advanced\" /><br />\\n\\t\\t\\t<input name=\"search_scope\" type=\"hidden\" value=\"CentralIndex\" /><br />\\n\\t\\t\\t<input name=\"tab\" type=\"hidden\" value=\"CentralIndex\" /><br />\\n\\t\\t\\t<input name=\"pfilter\" type=\"hidden\" value=\"rtype,exact,articles\" /><br />\\n\\t\\t\\t<input id=\"article_title_query\" name=\"query\" type=\"hidden\" /><br />\\n\\t\\t\\t<input name=\"vid\" type=\"hidden\" value=\"852JULAC_HKU:HKU\" />\\n\\t\\t</div>\\n</form>\\n</div>\\n<!--Electronic Resources--><div class=\"search-bar electronic\">\\n<form action=\"https://julac-hku.primo.exlibrisgroup.com/discovery/search\" id=\"electronic-form\" method=\"get\">\\n\\t\\t<label class=\"access\" for=\"search_electronic\">Search electronic resources</label><br />\\n\\t\\t<input class=\"keyword-textbox\" id=\"search_electronic\" placeholder=\"Search electronic resources\" title=\"Keywords\" type=\"text\" /><br />\\n\\t\\t<input id=\"se\" name=\"se\" title=\"Search\" type=\"submit\" value=\"Search\" />\\n<div class=\"hiddeninput\">\\n\\t\\t\\t<input id=\"seQuery\" name=\"query\" type=\"hidden\" /><br />\\n\\t\\t\\t<input name=\"tab\" type=\"hidden\" value=\"HKU_ER\" /><br />\\n\\t\\t\\t<input name=\"search_scope\" type=\"hidden\" value=\"HKU_ER\" /><br />\\n\\t\\t\\t<input name=\"vid\" type=\"hidden\" value=\"852JULAC_HKU:HKU_ER\" /><br />\\n\\t\\t\\t<input name=\"offset\" type=\"hidden\" value=\"0\" />\\n\\t\\t</div>\\n</form>\\n</div>\\n<!--Reading List--><div class=\"search-bar reading\">\\n<form action=\"https://julac-hku.alma.exlibrisgroup.com/leganto/public/852JULAC_HKU/searchlists\" id=\"reading\" method=\"get\"><label class=\"access\" for=\"search\">Search reading list</label> <input class=\"keyword-textbox\" id=\"search\" name=\"search\" placeholder=\"Search reading list\" title=\"Keywords\" type=\"text\" /> <input id=\"sr\" name=\"sr\" title=\"Search\" type=\"submit\" value=\"Search\" />\\n<div class=\"hiddeninput\"><input name=\"auth\" type=\"hidden\" value=\"SAML\" /></div>\\n</form>\\n</div>\\n<!--site search--><div class=\"search-bar site\">\\n<form action=\"https://www.google.com/cse\" id=\"site_search\" method=\"get\" target=\"_blank\"><label class=\"access\" for=\"search_google\">Search library services and facilities</label> <input class=\"keyword-textbox\" id=\"search_google\" name=\"q\" placeholder=\"Search library services and facilities\" title=\"Keywords\" type=\"text\" /> <input id=\"sa\" name=\"sa\" title=\"Search\" type=\"submit\" value=\"Search\" />\\n<div class=\"hiddeninput\"><input name=\"cx\" type=\"hidden\" value=\"006773944838018721806:vyvk2lk8uno\" /> <input name=\"ie\" type=\"hidden\" value=\"UTF-8\" /></div>\\n</form>\\n</div>\\n<!--forms--></div>  </div>  </div>\\n    </div>\\n  \\n  \\n  \\n  \\n  \\n  \\n</div></div>\\n</div>\\n<div class=\"row directories\">\\n<div class=\"col-xs-12 col-sm-4 col-sm-push-8\">\\n<div class=\"overlaybox\" style=\"padding: 0\"><div class=\"view view-slides view-id-slides view-display-id-default view-dom-id-a9d44bf5bf175cfcbf946e3b093df56f\">\\n            <div class=\"view-header\">\\n      <div itemscope itemtype=\"http://schema.org/Organization\">\\n<span itemprop=\"name\" content=\"HKU Main Library\"></span>\\n<span itemprop=\"description\"></span>\\n<time itemprop=\"openingHours\" datetime=\"Mo,Tu,We,Th,Fr 08:30-23:00\"></time>\\n<span itemprop=\"telephone\" content=\"+85228592203\"></span>\\n</div>    </div>\\n  \\n  \\n  \\n      <div class=\"view-content\">\\n      \\n  <div class=\"skin-default\">\\n    \\n    <div id=\"views_slideshow_cycle_main_slides-default\" class=\"views_slideshow_cycle_main views_slideshow_main\"><div id=\"views_slideshow_cycle_teaser_section_slides-default\" class=\"views-slideshow-cycle-main-frame views_slideshow_cycle_teaser_section\">\\n  <div id=\"views_slideshow_cycle_div_slides-default_0\" class=\"views-slideshow-cycle-main-frame-row views_slideshow_cycle_slide views_slideshow_slide views-row-1 views-row-odd\">\\n  <div class=\"views-slideshow-cycle-main-frame-row-item views-row views-row-0 views-row-odd views-row-first\">\\n    \\n          <a href=\"https://www.hkul111.hku.hk/events/basil-paos-carnival-of-dreams\"><img typeof=\"foaf:Image\" class=\"img-responsive\" src=\"/sites/all/files/images/index/Carnival%20of%20Dreams%20Poster%20%28Square%29%20%281%29.png\" width=\"1080\" height=\"1080\" alt=\"Carnival Of Dreams Exhibition\" /></a>  </div>\\n</div>\\n<div id=\"views_slideshow_cycle_div_slides-default_1\" class=\"views-slideshow-cycle-main-frame-row views_slideshow_cycle_slide views_slideshow_slide views-row-2 views_slideshow_cycle_hidden views-row-even\">\\n  <div class=\"views-slideshow-cycle-main-frame-row-item views-row views-row-1 views-row-even\">\\n    \\n          <a href=\"https://www.hkul111.hku.hk/events/her-rights-money-power-autonomy\"><img typeof=\"foaf:Image\" class=\"img-responsive\" src=\"/sites/all/files/images/index/Her%20Rights_Key%20Visual.jpg\" width=\"4500\" height=\"4500\" alt=\"Her Rights! Money, power, autonomy\" /></a>  </div>\\n</div>\\n<div id=\"views_slideshow_cycle_div_slides-default_2\" class=\"views-slideshow-cycle-main-frame-row views_slideshow_cycle_slide views_slideshow_slide views-row-3 views_slideshow_cycle_hidden views-row-odd\">\\n  <div class=\"views-slideshow-cycle-main-frame-row-item views-row views-row-2 views-row-odd\">\\n    \\n          <a href=\"https://hkbu.zoom.us/webinar/register/WN_sefFKq6KRcO-7yUScLFmnQ#/registration\"><img typeof=\"foaf:Image\" class=\"img-responsive\" src=\"/sites/all/files/images/index/JULAC%20Webinar%20Series_Generative%20AI_Social%20media%20post.png\" width=\"1080\" height=\"1080\" alt=\"Elevate your scholarship: Exploring Generative AI with Your Library\" /></a>  </div>\\n</div>\\n<div id=\"views_slideshow_cycle_div_slides-default_3\" class=\"views-slideshow-cycle-main-frame-row views_slideshow_cycle_slide views_slideshow_slide views-row-4 views_slideshow_cycle_hidden views-row-even\">\\n  <div class=\"views-slideshow-cycle-main-frame-row-item views-row views-row-3 views-row-even\">\\n    \\n          <a href=\"https://hub.hku.hk/researchdata/resources2.htm\"><img typeof=\"foaf:Image\" class=\"img-responsive\" src=\"/sites/all/files/images/index/RDA%20hkul%20homepage.png\" width=\"800\" height=\"800\" alt=\"Research Data Academy_March to May 2024\" /></a>  </div>\\n</div>\\n<div id=\"views_slideshow_cycle_div_slides-default_4\" class=\"views-slideshow-cycle-main-frame-row views_slideshow_cycle_slide views_slideshow_slide views-row-5 views_slideshow_cycle_hidden views-row-odd\">\\n  <div class=\"views-slideshow-cycle-main-frame-row-item views-row views-row-4 views-row-odd\">\\n    \\n          <a href=\"https://lib.hku.hk/general/hours/weekly.html\"><img typeof=\"foaf:Image\" class=\"img-responsive\" src=\"/sites/all/files/images/index/2024_3_Easter_Roller.png\" width=\"2048\" height=\"2048\" alt=\"University Libraries Opening Hours during Easter and Ching Ming Festival Holidays\" /></a>  </div>\\n</div>\\n<div id=\"views_slideshow_cycle_div_slides-default_5\" class=\"views-slideshow-cycle-main-frame-row views_slideshow_cycle_slide views_slideshow_slide views-row-6 views_slideshow_cycle_hidden views-row-even\">\\n  <div class=\"views-slideshow-cycle-main-frame-row-item views-row views-row-5 views-row-even\">\\n    \\n          <a href=\"https://libguides.lib.hku.hk/openaccess/ta\"><img typeof=\"foaf:Image\" class=\"img-responsive\" src=\"/sites/all/files/images/index/homepage%20roller.png\" width=\"1080\" height=\"1080\" alt=\"\" /></a>  </div>\\n</div>\\n<div id=\"views_slideshow_cycle_div_slides-default_6\" class=\"views-slideshow-cycle-main-frame-row views_slideshow_cycle_slide views_slideshow_slide views-row-7 views_slideshow_cycle_hidden views-row-odd\">\\n  <div class=\"views-slideshow-cycle-main-frame-row-item views-row views-row-6 views-row-odd\">\\n    \\n          <a href=\"https://libguides.lib.hku.hk/openaccess/OA-Fund\"><img typeof=\"foaf:Image\" class=\"img-responsive\" src=\"/sites/all/files/images/index/OA%20Fund%20website%20roller.png\" width=\"516\" height=\"516\" alt=\"OA Fund website roller\" /></a>  </div>\\n</div>\\n<div id=\"views_slideshow_cycle_div_slides-default_7\" class=\"views-slideshow-cycle-main-frame-row views_slideshow_cycle_slide views_slideshow_slide views-row-8 views_slideshow_cycle_hidden views-row-even\">\\n  <div class=\"views-slideshow-cycle-main-frame-row-item views-row views-row-7 views-row-even\">\\n    \\n          <a href=\"https://blog-sc.hku.hk/\"><img typeof=\"foaf:Image\" class=\"img-responsive\" src=\"/sites/all/files/images/index/SC%20blog%20-%20roller%20banner.png\" width=\"516\" height=\"516\" alt=\"Research Connect Blogs\" /></a>  </div>\\n</div>\\n<div id=\"views_slideshow_cycle_div_slides-default_8\" class=\"views-slideshow-cycle-main-frame-row views_slideshow_cycle_slide views_slideshow_slide views-row-9 views_slideshow_cycle_hidden views-row-odd\">\\n  <div class=\"views-slideshow-cycle-main-frame-row-item views-row views-row-8 views-row-odd views-row-last\">\\n    \\n          <a href=\"https://www.rgcgateway.hk/en\"><img typeof=\"foaf:Image\" class=\"img-responsive\" src=\"/sites/all/files/images/index/RGC%20Gateway%20-%20roller%20banner.png\" width=\"516\" height=\"516\" alt=\"The RGC Publication Gateway\" /></a>  </div>\\n</div>\\n</div>\\n</div>\\n          <div class=\"views-slideshow-controls-bottom clearfix\">\\n        <div id=\"views_slideshow_controls_text_slides-default\" class=\"views-slideshow-controls-text views_slideshow_controls_text\">\\n  <span id=\"views_slideshow_controls_text_previous_slides-default\" class=\"views-slideshow-controls-text-previous views_slideshow_controls_text_previous\"><a href=\"#\"><img src=\"https://cdn2.iconfinder.com/data/icons/picol-vector/32/arrow_sans_left-128.png\" width=\"10\" height=\"10\" alt=\"Left Arrow\"></a></span>\\n  <span id=\"views_slideshow_controls_text_pause_slides-default\" class=\"views-slideshow-controls-text-pause views_slideshow_controls_text_pause  views-slideshow-controls-text-status-play\"><a href=\"#\">Pause</a></span>\\n  <span id=\"views_slideshow_controls_text_next_slides-default\" class=\"views-slideshow-controls-text-next views_slideshow_controls_text_next\"><a href=\"#\"><img src=\"https://cdn3.iconfinder.com/data/icons/picol-vector/32/arrow_sans_right-128.png\" width=\"10\" height=\"10\" alt=\"Right Arrow\"></a></span>\\n</div>\\n<div id=\"views_slideshow_slide_counter_slides-default\" class=\"views-slideshow-slide-counter views_slideshow_slide_counter\">\\n  <span class=\"num\">1</span> of <span class=\"total\">9</span>\\n</div>\\n      </div>\\n      </div>\\n    </div>\\n  \\n  \\n  \\n  \\n  \\n  \\n</div></div>\\n<div class=\"overlaybox\"><div class=\"view view-home-nav-column-3 view-id-home_nav_column_3 view-display-id-default view-dom-id-8ffbd2d29398b1cb3cb2b739c3f97175\">\\n        \\n  \\n  \\n      <div class=\"view-content\">\\n        <div class=\"views-row views-row-1 views-row-odd views-row-first views-row-last\">\\n      \\n  <div class=\"views-field views-field-body\">        <div class=\"field-content\"><h2 class=\"title ask\">Ask a Librarian</h2>\\n<ul>\\n<li><a class=\"whatsapp\" href=\"/infoservices/whatsapp.html\">WhatsApp us at 5441-5441</a></li>\\n<li><a class=\"email\" href=\"/infoservices/email.html\">Email</a></li>\\n<li><a class=\"call\" href=\"/general/contactus_staff.html\">Call us at 3917-2202</a></li>\\n<!--\\n\\t<li><p><a class=\"info\" href=\"/infoservices/counter.html\">Information service</a></li>\\n<p><span class=\"desc indent\">(Level 3 Main Library)</span></li>\\n<p>-->\\n<li><a href=\"/mainlib/reference/research_consult.html\">Research Consultation</a>\\xc2\\xa0</li>\\n<!--\\n\\t<li><p><a href=\"/general/help.html\">More information</a></li>\\n<p>-->\\n</ul>\\n</div>  </div>  </div>\\n    </div>\\n  \\n  \\n  \\n  \\n  \\n  \\n</div></div>\\n</div>\\n<div class=\"col-xs-12 col-sm-4 col-sm-pull-4\">\\n<div class=\"overlaybox\"><div class=\"view view-home-nav-column-1 view-id-home_nav_column_1 view-display-id-default view-dom-id-e144c3e4d8213f93db01f114edbf7736\">\\n        \\n  \\n  \\n      <div class=\"view-content\">\\n        <div class=\"views-row views-row-1 views-row-odd views-row-first views-row-last\">\\n      \\n  <div class=\"views-field views-field-body\">        <div class=\"field-content\"><h2 class=\"title services\">Services for</h2>\\n<ul>\\n<li><a href=\"/userinfo/student.html\">Students</a>\\xc2\\xa0</li>\\n<li><a href=\"/userinfo/staff.html\">Staff</a></li>\\n<li><a href=\"/userinfo/graduate.html\">Graduates</a></li>\\n<li><a href=\"/userinfo/public.html\">Public/Visitors</a></li>\\n</ul>\\n<h2 class=\"title research\">Learning &amp; Research</h2>\\n<ul>\\n<li><a href=\"https://libguides.lib.hku.hk/readinglist\">ReadingList@HKUL</a><br />\\n\\t<span class=\"desc\">(Course Reserve)</span></li>\\n<li><a href=\"/endnote/index.html\">EndNote</a><br />\\n\\t<span class=\"desc\">(Citation Management)</span></li>\\n<li><a href=\"https://libguides.lib.hku.hk/turnitin\">Turnitin</a><br />\\n\\t<span class=\"desc\">(Plagiarism Checking)</span></li>\\n<li><a href=\"http://hub.hku.hk/\" target=\"_blank\">HKU Scholars Hub</a><br />\\n\\t<span class=\"desc\">(Institutional Repository)</span></li>\\n<li><a href=\"https://hub.hku.hk/researchdata/\" target=\"_blank\">Research Data Services</a></li>\\n<li><a href=\"https://libguides.lib.hku.hk/researchsupport\" target=\"_blank\">Research Support@HKUL</a></li>\\n<li><a href=\"https://libguides.lib.hku.hk/\">Subject Guides</a></li>\\n<li><a href=\"/general/instruction/index.html\">Training</a></li>\\n</ul>\\n</div>  </div>  </div>\\n    </div>\\n  \\n  \\n  \\n  \\n  \\n  \\n</div></div>\\n</div>\\n<div class=\"col-xs-12 col-sm-4 col-sm-pull-4\">\\n<div class=\"overlaybox\"><div class=\"view view-home-nav-column-2 view-id-home_nav_column_2 view-display-id-default view-dom-id-45675d1c6868de499b714a8a07c78c25\">\\n        \\n  \\n  \\n      <div class=\"view-content\">\\n        <div class=\"views-row views-row-1 views-row-odd views-row-first views-row-last\">\\n      \\n  <div class=\"views-field views-field-body\">        <div class=\"field-content\"><h2 class=\"title tools\">Tools</h2>\\n<ul>\\n<li><a href=\"http://find.lib.hku.hk/\" target=\"_blank\">Find@HKUL</a></li>\\n<li><a href=\"http://libguides.lib.hku.hk/az.php\" target=\"_blank\">Electronic Resources</a></li>\\n<li><a href=\"/database/index.html\">HKUL Digital Initiatives</a><br />\\n\\t<span class=\"desc\">(Digitized Collections)</span></li>\\n<li><a href=\"https://browzine.com/libraries/371/subjects\">BrowZine</a><br />\\n\\t<span class=\"desc\">(Digital Magazines &amp; Journals)</span></li>\\n<li><a href=\"https://elearning-resource.hku.hk/\" target=\"_blank\">e-Learning Resource Hub</a></li>\\n</ul>\\n<h2 class=\"title about\">About HKUL</h2>\\n<ul>\\n<li><a href=\"/general/abouthkul/index.html\">About HKUL</a></li>\\n<li><a href=\"/general/policy.html\">Policy</a></li>\\n<li><a href=\"/general/contactus.html\">Contact us</a></li>\\n<li><a href=\"/giving/index.html\">Giving to HKUL</a></li>\\n<li><a href=\"/publications/index.html\">Publications</a></li>\\n</ul>\\n</div>  </div>  </div>\\n    </div>\\n  \\n  \\n  \\n  \\n  \\n  \\n</div></div>\\n</div>\\n</div>\\n</div>\\n</div>\\n<div class=\"home-lower-container\">\\n<div class=\"region-content\">\\n<div class=\"row directories\">\\n<div class=\"col-sm-12\">\\n<div class=\"overlaybox\"><div class=\"view view-home-hours-locations view-id-home_hours_locations view-display-id-default view-dom-id-b9c1034bd66fdc2e228df797f8eb0009\">\\n        \\n  \\n  \\n      <div class=\"view-content\">\\n        <div class=\"views-row views-row-1 views-row-odd views-row-first views-row-last\">\\n      \\n  <div class=\"views-field views-field-body\">        <div class=\"field-content\"><h2 class=\"title hours\">Hours &amp; Locations</h2>\\n<ul class=\"hours-locations\">\\n<li><a href=\"/mainlib/index.html\">Main Library</a><br />\\n\\t<span class=\"loc\">Main Library</span><br />\\n\\t<span class=\"hrs\"><span id=\"MAI\">---</span></span><br />\\n\\t<span class=\"hrs\"><span id=\"COR\">---</span> (Overnight area)</span></li>\\n<li><a href=\"/ingenium/index.html\">Ingenium</a><br />\\n\\t<span class=\"loc\">2/F Main Library</span></li>\\n<li><a href=\"/level3/index.html\">Level 3</a><br />\\n\\t<span class=\"loc\">3/F Main Library</span></li>\\n<li><a href=\"/mediaservices/main.html\">Media Services (co-branded LES)</a><br />\\n\\t<span class=\"loc\">2/F LIC, Main Library </span><br />\\n\\t<span class=\"hrs\"><span id=\"MAV\">---</span></span></li>\\n</ul>\\n<ul class=\"hours-locations\">\\n<li><a href=\"/muslib/index.html\">Music Library</a><br />\\n\\t<span class=\"loc\">11/F Run Run Shaw Tower</span><br />\\n\\t<span class=\"hrs\"><span id=\"MUS\">---</span></span></li>\\n<li><a href=\"/edulib/index.html\">Tin Ka Ping Education Library</a><br />\\n\\t<span class=\"loc\">Level 3 (Old Wing), Main Library</span><br />\\n\\t<span class=\"hrs\"><span id=\"EDU\">---</span></span></li>\\n<li><a href=\"/medlib/index.html\">Yu Chun Keung Medical Library</a><br />\\n\\t<span class=\"loc\">LG1 William MW Mong Block</span><br />\\n\\t<span class=\"hrs\"><span id=\"MED\">---</span></span><br />\\n\\t<span class=\"hrs\"><span id=\"24H\">---</span> (Overnight area)</span></li>\\n<li><a href=\"/denlib/index.html\">Dental Library</a><br />\\n\\t<span class=\"loc\">5-6/F Prince Philip Dental Hospital</span><br />\\n\\t<span class=\"hrs\"><span id=\"DEN\">---</span></span></li>\\n<li><a href=\"/fpslib/index.html\">Fung Ping Shan Library</a><br />\\n\\t<span class=\"loc\">4-6/F Main Library</span><br />\\n\\t<span class=\"hrs\"><span id=\"FPS\">---</span></span></li>\\n<li><a href=\"/lawlib/index.html\">Lui Che Woo Law Library</a><br />\\n\\t<span class=\"loc\">1-2/F Cheng Yu Tung Tower</span><br />\\n\\t<span class=\"hrs\"><span id=\"LAW\">---</span></span>\\n<p>\\xc2\\xa0</p>\\n</li>\\n<li>Archives &amp; Special Collections (ASC)<br />\\n\\t<span class=\"loc\">1/F, Main Library</span>\\n<div style=\"margin-left:20px; margin-top:10px\"><a href=\"http://www.uarchive.hku.hk/\">University Archives</a><br />\\n\\t<span class=\"desc\">by appointment</span><br />\\n\\t<span class=\"desc\"><a href=\"mailto:hkua@hku.hk\">hkua@hku.hk</a></span></div>\\n<div style=\"margin-left:20px; margin-top:10px\"><a href=\"/hkspc/index.html\">Special Collections</a><br />\\n\\t<span class=\"desc\"><span id=\"SPE\">---</span></span><br />\\n\\t<span class=\"desc\">by appointment</span><br />\\n\\t<span class=\"desc\"><a href=\"mailto:libspeco@hku.hk\">libspeco@hku.hk</a></span></div>\\n<div style=\"margin-left:20px; margin-top:10px\"><a href=\"/preservation/index.html\">Preservation &amp; Conservation</a><br />\\n\\t<span class=\"desc\">HKUL Preservation Centre</span></div>\\n</li>\\n</ul>\\n<script>\\n<!--//--><![CDATA[// ><!--\\n\\njQuery(document).ready(function ($) {\\n\\tvar date = new Date();\\n\\tvar date_temp = getDate(date);\\n\\t$.getJSON(\\'/hours/json/opening_hours_\\'+date_temp+\\'.json\\', function(data) {\\n\\t\\t$.each(data, function(index, element) {\\n\\t\\t\\tif (index == \\'DateFN\\')\\t{\\t/*$(\\'#Date\\').html(element);\\talert(element);*/\\t\\t}\\n\\t\\t\\tif (index == \\'MAI\\')\\t\\t{\\t$(\\'#MAI\\').html(element);\\t$(\\'#FPS\\').html(element);\\t$(\\'#EDU\\').html(element);\\t}\\n\\t\\t\\t//if (index == \\'COL\\')\\t\\t{\\t$(\\'#COL\\').html(element);\\t}\\n\\t\\t\\tif (index == \\'COR\\')\\t\\t{\\t$(\\'#COR\\').html(element);\\t}\\n\\t\\t\\tif (index == \\'MAV\\')\\t\\t{\\t$(\\'#MAV\\').html(element);\\t/*$(\\'#LIC\\').html(element);*/\\t}\\n\\t\\t\\tif (index == \\'SPE\\')\\t\\t{\\t$(\\'#SPE\\').html(element);\\t}\\n\\t\\t\\tif (index == \\'DEN\\')\\t\\t{\\t$(\\'#DEN\\').html(element);\\t}\\n\\t\\t\\t//if (index == \\'EDU\\')\\t\\t{\\t$(\\'#EDU\\').html(element);\\t}\\n\\t\\t\\tif (index == \\'LAW\\')\\t\\t{\\t$(\\'#LAW\\').html(element);\\t}\\n\\t\\t\\tif (index == \\'MUS\\')\\t\\t{\\t$(\\'#MUS\\').html(element);\\t}\\n\\t\\t\\tif (index == \\'MED\\')\\t\\t{\\t$(\\'#MED\\').html(element);\\t}\\n\\t\\t\\tif (index == \\'24H\\')\\t\\t{\\t$(\\'#24H\\').html(element);\\t}\\n\\t\\t\\t//alert(index);\\n\\t\\t});\\n\\t})\\n\\n\\tfunction getDate(date) {\\n\\t\\tvar yyyy = date.getFullYear().toString();\\n\\t\\tvar mm = (date.getMonth()+1).toString(); // getMonth() is zero-based\\n\\t\\tvar dd  = date.getDate().toString();\\n\\t\\treturn yyyy + \\'-\\' + (mm[1]?mm:\"0\"+mm[0]) + \\'-\\' + (dd[1]?dd:\"0\"+dd[0]); // padding\\n\\t}\\n});\\n\\n//--><!]]>\\n</script></div>  </div>  </div>\\n    </div>\\n  \\n  \\n  \\n  \\n  \\n  \\n</div></div>\\n</div>\\n</div>\\n<div class=\"row directories\">\\n<div class=\"col-sm-12\">\\n<div class=\"overlaybox\">\\n<h2 class=\"title news\">News and Announcements @ HKUL</h2>\\n<div class=\"view view-communication-hkul view-id-communication_hkul view-display-id-default view-dom-id-234cdec974a7e0adbe3456c2d9573318\">\\n        \\n  \\n  \\n      <div class=\"view-content\">\\n        <div class=\"views-row views-row-1 views-row-odd views-row-first\">\\n      \\n  <div class=\"views-field views-field-field-commun-url-link\">        <div class=\"field-content\"><a href=\"https://lib.hku.hk/newsblog/?p=2024\">Librarian\\xe2\\x80\\x99s Message re: HKU Libraries supports Open Scholarship 2024</a></div>  </div>  </div>\\n  <div class=\"views-row views-row-2 views-row-even\">\\n      \\n  <div class=\"views-field views-field-field-commun-url-link\">        <div class=\"field-content\"><a href=\"https://lib.hku.hk/newsblog/?p=1995\">Extension of Access to University Facilities for Class of 2023</a></div>  </div>  </div>\\n  <div class=\"views-row views-row-3 views-row-odd\">\\n      \\n  <div class=\"views-field views-field-field-commun-url-link\">        <div class=\"field-content\"><a href=\"https://lib.hku.hk/newsblog/?p=1991\">New Policy on Excessive Downloading in Electronic Resources</a></div>  </div>  </div>\\n  <div class=\"views-row views-row-4 views-row-even\">\\n      \\n  <div class=\"views-field views-field-field-commun-url-link\">        <div class=\"field-content\"><a href=\"https://lib.hku.hk/newsblog/?p=1971\">Librarian Message re: Update to the Special Collections Access Procedures</a></div>  </div>  </div>\\n  <div class=\"views-row views-row-5 views-row-odd\">\\n      \\n  <div class=\"views-field views-field-field-commun-url-link\">        <div class=\"field-content\"><a href=\"https://lib.hku.hk/acqlist/\">New Acquisitions List</a></div>  </div>  </div>\\n  <div class=\"views-row views-row-6 views-row-even\">\\n      \\n  <div class=\"views-field views-field-field-commun-url-link\">        <div class=\"field-content\"><a href=\"https://lib.hku.hk/newsblog/?p=886\">Beware: a phishing e-mail pretending to be from the Libraries</a></div>  </div>  </div>\\n  <div class=\"views-row views-row-7 views-row-odd views-row-last\">\\n      \\n  <div class=\"views-field views-field-field-commun-url-link\">        <div class=\"field-content\"><a href=\"https://lib.hku.hk/cgi-bin/check_form/slc\">Senate Library Committee Agendas and Minutes</a></div>  </div>  </div>\\n    </div>\\n  \\n  \\n  \\n  \\n  \\n  \\n</div> <a class=\"more\" href=\"https://lib.hku.hk/newsblog/\">...More news and announcements</a></div>\\n</div>\\n</div>\\n</div>\\n</div>\\n</div>\\n</section>\\n</div>\\n</div>\\n<footer class=\"footer container\">   <div class=\"region region-footer\">\\n    <section id=\"block-block-2\" class=\"block block-block clearfix\">\\n\\n      \\n  <div id=\"backtotop\"><a class=\"backtotop\" href=\"#\">Back to Top</a></div>\\n\\n</section>\\n<section id=\"block-block-3\" class=\"block block-block clearfix\">\\n\\n      \\n  <div id=\"sideBar\">\\n<div class=\"sideBarTab search\"><a href=\"https://julac-hku.primo.exlibrisgroup.com/discovery/search?vid=852JULAC_HKU:HKU\">Find @HKUL</a></div>\\n<div class=\"sideBarTab mya\"><a href=\"https://julac-hku.primo.exlibrisgroup.com/discovery/account?vid=852JULAC_HKU:HKU&amp;section=overview&amp;lang=en\">MyAccount @HKUL</a></div>\\n<div class=\"sideBarTab book\"><a href=\"/general/e-form/book-a-space.html\">Book a Space</a></div>\\n<div class=\"sideBarTab ask\"><a href=\"/general/help.html\">Ask a Librarian</a></div>\\n<div class=\"sideBarTab hour\"><a href=\"/general/hours/index.html\">Hours &amp; locations</a></div>\\n</div>\\n\\n</section>\\n<section id=\"block-block-4\" class=\"block block-block clearfix\">\\n\\n      \\n  <div class=\"social_section\">\\n<ul>\\n<li><a class=\"fb\" href=\"https://www.facebook.com/hkulib\" target=\"_blank\" title=\"Follow us on Facebook\">Facebook</a></li>\\n<li><a class=\"ig\" href=\"https://www.instagram.com/hkulibrary/\" target=\"_blank\" title=\"Follow us on Instagram\">Instagram</a></li>\\n<li><a class=\"yt\" href=\"https://www.youtube.com/c/HKULibrariesCollection\" target=\"_blank\" title=\"Follow us on YouTube\">YouTube</a></li>\\n</ul>\\n</div>\\n<div class=\"footer_links_section\">\\n<ul>\\n<li><a href=\"https://lib.hku.hk/general/abouthkul/index.html\"><strong>About HKUL</strong></a>\\n<ul>\\n<li><a href=\"https://lib.hku.hk/general/strategicplan.html\">Strategic Plan</a></li>\\n<li><a href=\"https://lib.hku.hk/general/services/regulations.html\">Library Regulations</a>\\n<ul>\\n<li><a href=\"https://lib.hku.hk/general/AR/index.html\">Annual Report</a></li>\\n<li><a href=\"https://lib.hku.hk/general/focus/index.html\">FOCUS Newsletter</a></li>\\n</ul>\\n</li>\\n<li>Borrowing and Requesting\\n<ul>\\n<li><a href=\"https://lib.hku.hk/cdd/index.html\">Borrow, Renew, Recall</a></li>\\n<li><a href=\"https://lib.hku.hk/cdd/ibs_books.html\">Inter-branch Delivery</a></li>\\n<li><a href=\"https://lib.hku.hk/mainlib/ill.html\">Interlibrary Loan</a></li>\\n<li><a href=\"https://lib.hku.hk/cdd/storage-request.html\">Storage Collection Request</a></li>\\n<li><a href=\"https://lib.hku.hk/cdd/equipment/index.html\">Equipment for loan</a></li>\\n</ul>\\n</li>\\n<li>Library Facilities\\n<ul>\\n<li><a href=\"https://lib.hku.hk/techsupport/photocopy.html\">Copy, Print, Scan</a></li>\\n<li><a href=\"https://lib.hku.hk/level3/zones.html#technology\">Computers</a></li>\\n<li><a href=\"https://lib.hku.hk/mainlib/facilities.html#E-Learning_Lab\">e-Learning Lab</a></li>\\n</ul>\\n</li>\\n<li><a href=\"https://lib.hku.hk/mainlib/borrowing/registration_counter.html\">Registration</a></li>\\n<li><a href=\"https://lib.hku.hk/mainlib/studyplace.html\">Study Space</a></li>\\n</ul>\\n</li>\\n</ul>\\n<ul>\\n<li><strong><a href=\"https://digitalrepository.lib.hku.hk/\">Digital Repository @ HKUL</a></strong>\\n<ul>\\n<li><a href=\"https://digitalrepository.lib.hku.hk/ctwe/\">China Through Western Eyes\\xc2\\xa0</a></li>\\n<li><a href=\"https://digitalrepository.lib.hku.hk/evideo/\">e-Video\\xc2\\xa0\\xc2\\xa0</a></li>\\n<li><a href=\"https://digitalrepository.lib.hku.hk/collection/w0892999t\">HKUL eBooks</a></li>\\n<li><a href=\"https://digitalrepository.lib.hku.hk/collection/xd07h215b\">HKU Press Digital Editions</a></li>\\n<li><a href=\"https://digitalrepository.lib.hku.hk/hkwest/\">Hong Kong and the West until 1860</a></li>\\n<li><a href=\"https://digitalrepository.lib.hku.hk/hkhsa/\">Hong Kong Heritage Society Archives</a></li>\\n<li><a href=\"https://digitalrepository.lib.hku.hk/hkimage/\">Hong Kong Image Database</a></li>\\n<li><a href=\"https://digitalrepository-dev.lib.hku.hk/hkjo\">Hong Kong Journals Online</a></li>\\n<li><a href=\"https://lib.hku.hk/database/index.html\">More Digital Repository @ HKUL </a></li>\\n</ul>\\n</li>\\n</ul>\\n<ul>\\n<li><strong>Other Collections</strong>\\n<ul>\\n<li><a href=\"https://sunzi.lib.hku.hk/bldho/\">Basic Law Drafting History Online\\xc2\\xa0</a></li>\\n<li><a href=\"https://evideo.lib.hku.hk/\">e-Video\\xc2\\xa0\\xc2\\xa0(to become obselete)\\xc2\\xa0</a></li>\\n<li><a href=\"https://eproxy.lib.hku.hk/login?url=https://exambase.lib.hku.hk/\">ExamBase\\xc2\\xa0</a></li>\\n<li><a href=\"https://fpslidx.lib.hku.hk/exhibits/show/fpslidx/home\">Fung Ping Shan Library Rare Books Online</a></li>\\n<li><a href=\"https://oelawhk.lib.hku.hk/\">Historical Laws of Hong Kong Online</a></li>\\n<li><a href=\"https://hub.hku.hk/\">HKU Scholars Hub</a></li>\\n<li><a href=\"https://lib.hku.hk/database/index.html\">More Collections</a></li>\\n</ul>\\n</li>\\n</ul>\\n<ul>\\n<li><a href=\"https://www.hku.hk\"><strong>The University of Hong Kong </strong></a>\\n<ul>\\n<li><a href=\"https://hku.hk/about/\">About The University of Hong Kong</a></li>\\n<li><a href=\"https://hku.hk/contact/\">Contact HKU</a></li>\\n<li><a href=\"https://hku.hk/prospective-students/\">Prospective Students</a></li>\\n<li><a href=\"https://hku.hk/current-students/\">Current Students</a></li>\\n<li><a href=\"https://tl.hku.hk/\">Teaching and Learning at HKU</a></li>\\n<li><a href=\"https://www.hr.hku.hk/career_opportunities/careers.html\">Careers</a></li>\\n</ul>\\n</li>\\n</ul>\\n</div>\\n\\n</section>\\n  </div>\\n </footer>\\n<footer class=\"footer-bottom container\">   <div class=\"region region-footer-bottom\">\\n    <section id=\"block-block-5\" class=\"block block-block clearfix\">\\n\\n      \\n  <div class=\"footer-bottom-1\">The University of Hong Kong Libraries,\\xc2\\xa0<br />\\nThe University of Hong Kong , Pokfulam Road, Hong Kong\\xc2\\xa0<br />\\nCopyright \\xc2\\xa9 2020 All rights reserved.</div>\\n<div class=\"footer-bottom-2\"><a href=\"/general/privacy.html\">Privacy Policy</a> <a href=\"/general/copyright.html\">Copyright &amp; Disclaimer</a> <a href=\"/general/web-accessibility.html\">Web Accessibility</a></div>\\n\\n</section>\\n  </div>\\n </footer>\\n\\n<script src=\"/sites/all/themes/bootstrap/js/bootstrap.js?\"></script>\\n</body>\\n</html>\\n'\n"
          ]
        }
      ]
    },
    {
      "cell_type": "markdown",
      "source": [
        "**Step 5: Decode to text**"
      ],
      "metadata": {
        "id": "e1f6NZ2jfbwF"
      }
    },
    {
      "cell_type": "markdown",
      "source": [
        "As we talked about the bytes string before, because the original html file is encoded and send to the client in bytes, we need to use the right encoding system to decode the bytes and turn them back into string for displaying correctly and performing other operations.\n",
        "\n",
        "And most of html file declare the encoding of the document in the <meta> tag within the <head> section.\n",
        "\n",
        "Example:\n",
        "`<meta http-equiv=\"Content-Type\" content=\"text/html; charset=utf-8\" />`"
      ],
      "metadata": {
        "id": "lgCrQKYSCdqq"
      }
    },
    {
      "cell_type": "code",
      "source": [
        "html = html_bytes.decode(\"utf-8\")"
      ],
      "metadata": {
        "id": "UI1vk9qoBcL4"
      },
      "execution_count": 32,
      "outputs": []
    },
    {
      "cell_type": "code",
      "source": [
        "html"
      ],
      "metadata": {
        "id": "F79dPG-8D_-1",
        "colab": {
          "base_uri": "https://localhost:8080/",
          "height": 256
        },
        "outputId": "45b224c2-b3b4-47df-806b-d243a2b64bb1"
      },
      "execution_count": 33,
      "outputs": [
        {
          "output_type": "execute_result",
          "data": {
            "text/plain": [
              "'<!DOCTYPE html>\\n<html lang=\"en\" dir=\"ltr\" prefix=\"content: http://purl.org/rss/1.0/modules/content/ dc: http://purl.org/dc/terms/ foaf: http://xmlns.com/foaf/0.1/ og: http://ogp.me/ns# rdfs: http://www.w3.org/2000/01/rdf-schema# sioc: http://rdfs.org/sioc/ns# sioct: http://rdfs.org/sioc/types# skos: http://www.w3.org/2004/02/skos/core# xsd: http://www.w3.org/2001/XMLSchema#\">\\n<head>\\n<meta name=\"viewport\" content=\"width=device-width, initial-scale=1.0\">\\n<meta http-equiv=\"X-UA-Compatible\" content=\"IE=edge\"> \\n<meta http-equiv=\"Content-Type\" content=\"text/html; charset=utf-8\" />\\n<link rel=\"shortcut icon\" href=\"/sites/all/themes/bootstrap/hkul_subtheme/favicon.ico\" type=\"image/vnd.microsoft.icon\" />\\n<title>HKU Libraries</title>\\n<style>\\n@import url(\"/modules/system/system.base.css?\");\\n</style>\\n<style media=\"screen\">\\n@import url(\"/sites/all/modules/tipsy/stylesheets/tipsy.css?\");\\n</style>\\n<style media=\"screen\">\\n@import url(\"/sites/all/modules/views_slideshow/views_slideshow.css?\");\\n</style>\\n<style>\\n@import url(\"/sites/all/modules/date/date_api/date.css?\");\\n@import url(\"/sites/all/modules/date/date_popup/themes/datepicker.1.7.css?\");\\n@import url(\"/modules/field/theme/field.css?\");\\n@import url(\"/modules/node/node.css?\");\\n@import url(\"/sites/all/modules/office_hours/office_hours.css?\");\\n@import url(\"/sites/all/modules/extlink/extlink.css?\");\\n@import url(\"/sites/all/modules/views/css/views.css?\");\\n@import url(\"/sites/all/modules/ckeditor/css/ckeditor.css?\");\\n</style>\\n<style>\\n@import url(\"/sites/all/modules/ctools/css/ctools.css?\");\\n@import url(\"/sites/all/modules/nice_menus/css/nice_menus.css?\");\\n@import url(\"/sites/all/modules/nice_menus/css/nice_menus_default.css?\");\\n@import url(\"/sites/all/modules/views_slideshow/views_slideshow_controls_text.css?\");\\n@import url(\"/sites/all/modules/views_slideshow/contrib/views_slideshow_cycle/views_slideshow_cycle.css?\");\\n</style>\\n<style>\\n@import url(\"/sites/all/themes/bootstrap/hkul_subtheme/bootstrap%403.4.1/dist/css/bootstrap.css?\");\\n@import url(\"/sites/all/themes/bootstrap/hkul_subtheme/css/style.css?\");\\n@import url(\"/sites/all/themes/bootstrap/hkul_subtheme/css/bpopup.css?\");\\n</style>\\n<!-- HTML5 element support for IE6-8 -->\\n<!--[if lt IE 9]>\\n<script src=\"https://cdn.jsdelivr.net/html5shiv/3.7.3/html5shiv-printshiv.min.js\"></script>\\n<![endif]-->\\n<!-- Google tag (gtag.js) -->\\n<script async src=\"https://www.googletagmanager.com/gtag/js?id=G-QBR9F13SC2\"></script>\\n<script> window.dataLayer = window.dataLayer || []; function gtag(){dataLayer.push(arguments);} gtag(\\'js\\', new Date()); gtag(\\'config\\', \\'G-QBR9F13SC2\\', {\\'cookie_domain\\': \\'lib.hku.hk\\'}); </script>\\n<script src=\"/sites/all/modules/jquery_update/replace/jquery/2.1/jquery.min.js?v=2.1.4\"></script>\\n<script src=\"/misc/jquery-extend-3.4.0.js?v=2.1.4\"></script>\\n<script src=\"/misc/jquery-html-prefilter-3.5.0-backport.js?v=2.1.4\"></script>\\n<script src=\"/misc/jquery.once.js?v=1.2\"></script>\\n<script src=\"/misc/drupal.js?\"></script>\\n<script src=\"/sites/all/modules/tipsy/javascripts/jquery.tipsy.js?v=0.1.7\"></script>\\n<script src=\"/sites/all/modules/tipsy/javascripts/tipsy.js?v=0.1.7\"></script>\\n<script src=\"/sites/all/modules/nice_menus/js/jquery.bgiframe.js?v=2.1\"></script>\\n<script src=\"/sites/all/modules/nice_menus/js/jquery.hoverIntent.js?v=0.5\"></script>\\n<script src=\"/sites/all/modules/nice_menus/js/superfish.js?v=1.4.8\"></script>\\n<script src=\"/sites/all/modules/nice_menus/js/nice_menus.js?v=1.0\"></script>\\n<script src=\"/sites/all/modules/views_slideshow/js/views_slideshow.js?v=1.0\"></script>\\n<script src=\"/sites/all/modules/extlink/extlink.js?\"></script>\\n<script src=\"/sites/all/libraries/jquery.cycle/jquery.cycle.all.js?\"></script>\\n<script src=\"/sites/all/modules/views_slideshow/contrib/views_slideshow_cycle/js/views_slideshow_cycle.js?\"></script>\\n<script src=\"/sites/all/themes/bootstrap/hkul_subtheme/bootstrap%403.4.1/dist/js/bootstrap.js?\"></script>\\n<script src=\"/sites/all/themes/bootstrap/hkul_subtheme/js/hkul.js?\"></script>\\n<script src=\"/sites/all/themes/bootstrap/hkul_subtheme/js/jquery.cookie.js?\"></script>\\n<script src=\"/sites/all/themes/bootstrap/hkul_subtheme/js/fontresize.js?\"></script>\\n<script src=\"/sites/all/themes/bootstrap/hkul_subtheme/js/jquery.bpopup.min.js?\"></script>\\n<script>jQuery.extend(Drupal.settings, {\"basePath\":\"\\\\/\",\"pathPrefix\":\"\",\"setHasJsCookie\":0,\"ajaxPageState\":{\"theme\":\"hkul_subtheme\",\"theme_token\":\"MKQek-MyZR-wJFOtWK2uqOixKUE5CpCSsLhpY-3K564\",\"js\":{\"sites\\\\/all\\\\/themes\\\\/bootstrap\\\\/js\\\\/bootstrap.js\":1,\"sites\\\\/all\\\\/modules\\\\/jquery_update\\\\/replace\\\\/jquery\\\\/2.1\\\\/jquery.min.js\":1,\"misc\\\\/jquery-extend-3.4.0.js\":1,\"misc\\\\/jquery-html-prefilter-3.5.0-backport.js\":1,\"misc\\\\/jquery.once.js\":1,\"misc\\\\/drupal.js\":1,\"sites\\\\/all\\\\/modules\\\\/tipsy\\\\/javascripts\\\\/jquery.tipsy.js\":1,\"sites\\\\/all\\\\/modules\\\\/tipsy\\\\/javascripts\\\\/tipsy.js\":1,\"sites\\\\/all\\\\/modules\\\\/nice_menus\\\\/js\\\\/jquery.bgiframe.js\":1,\"sites\\\\/all\\\\/modules\\\\/nice_menus\\\\/js\\\\/jquery.hoverIntent.js\":1,\"sites\\\\/all\\\\/modules\\\\/nice_menus\\\\/js\\\\/superfish.js\":1,\"sites\\\\/all\\\\/modules\\\\/nice_menus\\\\/js\\\\/nice_menus.js\":1,\"sites\\\\/all\\\\/modules\\\\/views_slideshow\\\\/js\\\\/views_slideshow.js\":1,\"sites\\\\/all\\\\/modules\\\\/extlink\\\\/extlink.js\":1,\"sites\\\\/all\\\\/libraries\\\\/jquery.cycle\\\\/jquery.cycle.all.js\":1,\"sites\\\\/all\\\\/modules\\\\/views_slideshow\\\\/contrib\\\\/views_slideshow_cycle\\\\/js\\\\/views_slideshow_cycle.js\":1,\"sites\\\\/all\\\\/themes\\\\/bootstrap\\\\/hkul_subtheme\\\\/bootstrap@3.4.1\\\\/dist\\\\/js\\\\/bootstrap.js\":1,\"sites\\\\/all\\\\/themes\\\\/bootstrap\\\\/hkul_subtheme\\\\/js\\\\/hkul.js\":1,\"sites\\\\/all\\\\/themes\\\\/bootstrap\\\\/hkul_subtheme\\\\/js\\\\/jquery.cookie.js\":1,\"sites\\\\/all\\\\/themes\\\\/bootstrap\\\\/hkul_subtheme\\\\/js\\\\/fontresize.js\":1,\"sites\\\\/all\\\\/themes\\\\/bootstrap\\\\/hkul_subtheme\\\\/js\\\\/jquery.bpopup.min.js\":1},\"css\":{\"modules\\\\/system\\\\/system.base.css\":1,\"sites\\\\/all\\\\/modules\\\\/tipsy\\\\/stylesheets\\\\/tipsy.css\":1,\"sites\\\\/all\\\\/modules\\\\/views_slideshow\\\\/views_slideshow.css\":1,\"sites\\\\/all\\\\/modules\\\\/date\\\\/date_api\\\\/date.css\":1,\"sites\\\\/all\\\\/modules\\\\/date\\\\/date_popup\\\\/themes\\\\/datepicker.1.7.css\":1,\"modules\\\\/field\\\\/theme\\\\/field.css\":1,\"modules\\\\/node\\\\/node.css\":1,\"sites\\\\/all\\\\/modules\\\\/office_hours\\\\/office_hours.css\":1,\"sites\\\\/all\\\\/modules\\\\/extlink\\\\/extlink.css\":1,\"sites\\\\/all\\\\/modules\\\\/views\\\\/css\\\\/views.css\":1,\"sites\\\\/all\\\\/modules\\\\/ckeditor\\\\/css\\\\/ckeditor.css\":1,\"sites\\\\/all\\\\/modules\\\\/ctools\\\\/css\\\\/ctools.css\":1,\"sites\\\\/all\\\\/modules\\\\/nice_menus\\\\/css\\\\/nice_menus.css\":1,\"sites\\\\/all\\\\/modules\\\\/nice_menus\\\\/css\\\\/nice_menus_default.css\":1,\"sites\\\\/all\\\\/modules\\\\/views_slideshow\\\\/views_slideshow_controls_text.css\":1,\"sites\\\\/all\\\\/modules\\\\/views_slideshow\\\\/contrib\\\\/views_slideshow_cycle\\\\/views_slideshow_cycle.css\":1,\"sites\\\\/all\\\\/themes\\\\/bootstrap\\\\/hkul_subtheme\\\\/bootstrap@3.4.1\\\\/dist\\\\/css\\\\/bootstrap.css\":1,\"sites\\\\/all\\\\/themes\\\\/bootstrap\\\\/hkul_subtheme\\\\/css\\\\/style.css\":1,\"sites\\\\/all\\\\/themes\\\\/bootstrap\\\\/hkul_subtheme\\\\/css\\\\/bpopup.css\":1}},\"tipsy\":{\"custom_selectors\":[{\"selector\":\".tipsy\",\"options\":{\"fade\":1,\"gravity\":\"w\",\"delayIn\":0,\"delayOut\":0,\"trigger\":\"hover\",\"opacity\":\"0.8\",\"offset\":0,\"html\":0,\"tooltip_content\":{\"source\":\"attribute\",\"selector\":\"title\"}}}]},\"nice_menus_options\":{\"delay\":\"800\",\"speed\":\"slow\"},\"extlink\":{\"extTarget\":\"_blank\",\"extClass\":0,\"extLabel\":\"(link is external)\",\"extImgClass\":0,\"extSubdomains\":1,\"extExclude\":\"\",\"extInclude\":\"\",\"extCssExclude\":\"\",\"extCssExplicit\":\"\",\"extAlert\":0,\"extAlertText\":\"This link will take you to an external web site.\",\"mailtoClass\":0,\"mailtoLabel\":\"(link sends e-mail)\"},\"viewsSlideshow\":{\"slides-default\":{\"methods\":{\"goToSlide\":[\"viewsSlideshowPager\",\"viewsSlideshowSlideCounter\",\"viewsSlideshowCycle\"],\"nextSlide\":[\"viewsSlideshowPager\",\"viewsSlideshowSlideCounter\",\"viewsSlideshowCycle\"],\"pause\":[\"viewsSlideshowControls\",\"viewsSlideshowCycle\"],\"play\":[\"viewsSlideshowControls\",\"viewsSlideshowCycle\"],\"previousSlide\":[\"viewsSlideshowPager\",\"viewsSlideshowSlideCounter\",\"viewsSlideshowCycle\"],\"transitionBegin\":[\"viewsSlideshowPager\",\"viewsSlideshowSlideCounter\"],\"transitionEnd\":[]},\"paused\":0}},\"viewsSlideshowControls\":{\"slides-default\":{\"bottom\":{\"type\":\"viewsSlideshowControlsText\"}}},\"viewsSlideshowCycle\":{\"#views_slideshow_cycle_main_slides-default\":{\"num_divs\":9,\"id_prefix\":\"#views_slideshow_cycle_main_\",\"div_prefix\":\"#views_slideshow_cycle_div_\",\"vss_id\":\"slides-default\",\"effect\":\"fade\",\"transition_advanced\":0,\"timeout\":5000,\"speed\":700,\"delay\":0,\"sync\":1,\"random\":0,\"pause\":1,\"pause_on_click\":0,\"action_advanced\":0,\"start_paused\":0,\"remember_slide\":0,\"remember_slide_days\":1,\"pause_in_middle\":0,\"pause_when_hidden\":0,\"pause_when_hidden_type\":\"full\",\"amount_allowed_visible\":\"\",\"nowrap\":0,\"fixed_height\":1,\"items_per_slide\":1,\"wait_for_image_load\":1,\"wait_for_image_load_timeout\":3000,\"cleartype\":0,\"cleartypenobg\":0,\"advanced_options\":\"{}\"}},\"bootstrap\":{\"anchorsFix\":\"0\",\"anchorsSmoothScrolling\":\"0\",\"formHasError\":1,\"popoverEnabled\":1,\"popoverOptions\":{\"animation\":1,\"html\":0,\"placement\":\"right\",\"selector\":\"\",\"trigger\":\"click\",\"triggerAutoclose\":1,\"title\":\"\",\"content\":\"\",\"delay\":0,\"container\":\"body\"},\"tooltipEnabled\":1,\"tooltipOptions\":{\"animation\":1,\"html\":0,\"placement\":\"auto left\",\"selector\":\"\",\"trigger\":\"hover focus\",\"delay\":0,\"container\":\"body\"}}});</script>\\n</head>\\n<body class=\"html front not-logged-in no-sidebars page-node page-node- page-node-2 node-type-home\">\\n  <div id=\"skip-link\">\\n    <a href=\"#main-content\" class=\"element-invisible\">Skip to main content</a>\\n  </div>\\n\\n<div id=\"popup-hko\"></div>\\n\\n<div class=\"main-container container\">\\n<header role=\"banner\" id=\"page-header\">\\n  <div class=\"region region-header\">\\n    <section id=\"block-block-7\" class=\"block block-block clearfix\">\\n\\n      \\n  <div class=\"site-logo\"><a href=\"/\"><img alt=\"HKU Libraries\" src=\"/sites/all/themes/bootstrap/hkul_subtheme/images/hkul-logo@2x.png\" /></a></div>\\n<!--\\n<div class=\"site-logo2\"><p><a href=\"https://www.hkul110.hku.hk/\"><img alt=\"HKUL110\" src=\"/sites/all/themes/bootstrap/hkul_subtheme/images/hkul110-logo.svg\" width=\"250px\" /></a></div>\\n<p>-->\\n<div class=\"header-top\">\\n<div><a class=\"highcontrast\" href=\"#\" id=\"highcontrast\" title=\"Change to High Colour Contrast Version\">High Contrast</a><a class=\"normalcontrast\" href=\"#\" id=\"normalcontrast\" style=\"display:none;\" title=\"Change to Normal Colour Contrast Version\">Normal Contrast</a></div>\\n<div><a class=\"norfont\" href=\"#\" id=\"norfont\" title=\"Text Size: Default Size\"><span class=\"access\">Text Size: Large (</span>A<span class=\"access\">) /</span></a> <a class=\"incfont\" href=\"#\" id=\"incfont\" title=\"Text Size: Larger\"><span class=\"access\">Text Size: Larger (</span>A<span class=\"access\">) /</span></a> <a class=\"inc2font\" href=\"#\" id=\"inc2font\" title=\"Text Size: Largest\"><span class=\"access\">Text Size: Largest (</span>A<span class=\"access\">)</span></a></div>\\n</div>\\n<div class=\"header-bottom\"><a class=\"button green\" href=\"https://julac-hku.primo.exlibrisgroup.com/discovery/account?vid=852JULAC_HKU:HKU&amp;section=overview&amp;lang=en\" target=\"_blank\">MyAccount @HKUL</a> <span class=\"access\"> / </span> <a class=\"button blue\" href=\"/general/e-form/book-a-space.html\">Book A Space</a> <span class=\"access\"> / </span> <a class=\"button orange\" href=\"/general/e-form/index.html\">e-Forms</a></div>\\n\\n</section>\\n  </div>\\n </header>\\n<!-- /#page-header -->\\n\\n<div class=\"row\">\\n<section class=\"col-sm-12\">\\n<div class=\"region-content\">\\n<a id=\"main-content\"></a> \\n<h1 class=\"page-header\">Library Home Page</h1>\\n<div class=\"home-upper-container\">\\n<div class=\"region-content\">\\n<div class=\"row greeting\">\\n<div class=\"col-sm-12\">\\n<div class=\"greetingmsg\"></div>\\n</div>\\n</div>\\n<div class=\"row search\">\\n<div class=\"col-sm-12\"><div class=\"view view-home-search view-id-home_search view-display-id-default view-dom-id-9ff4b270614cf9d93e0bcf1f05117449\">\\n        \\n  \\n  \\n      <div class=\"view-content\">\\n        <div class=\"views-row views-row-1 views-row-odd views-row-first views-row-last\">\\n      \\n  <div class=\"views-field views-field-body\">        <div class=\"field-content\"><div class=\"search-tabs-nav\">\\n<div class=\"prev\">\\xa0</div>\\n<div class=\"next\">\\xa0</div>\\n</div>\\n<div class=\"search-tabs-container\">\\n<div class=\"search-tabs\"><a class=\"search-tab find active\" href=\"#\">Find@HKUL</a> <a class=\"search-tab advanced\" href=\"#\">Author / Title</a> <a class=\"search-tab electronic\" href=\"#\">Electronic Resources</a> <a class=\"search-tab reading\" href=\"#\">Reading List</a> <a class=\"search-tab site\" href=\"#\">Site Search</a> <a class=\"search-tab adv_search_link\" href=\"#\">Advanced Search</a></div>\\n</div>\\n<!--class-findit-form--><div class=\"search-bar find active\">\\n<form action=\"https://julac-hku.primo.exlibrisgroup.com/discovery/search\" enctype=\"application/x-www-form-urlencoded\" id=\"class-findit-form\" method=\"get\" name=\"class-findit-form\">\\n\\t\\t<label class=\"access\" for=\"search_field\">Search the Libraries Collections</label><br />\\n\\t\\t<input id=\"search_field\" name=\"vl(freeText0)\" placeholder=\"Search the Libraries Collections\" type=\"text\" /><br />\\n\\t\\t<label class=\"access\" for=\"search_scope\">Search Scope</label><br />\\n\\t\\t<br />\\n<select id=\"search_scope\" name=\"search_scope\">\\n\\t\\t\\t<option value=\"MyInst_and_CI\">Books &amp; Articles+</option><br />\\n\\t\\t\\t<option value=\"MyInstitution\">Books+</option><br />\\n\\t\\t\\t<option value=\"CentralIndex\">Articles+</option><br />\\n\\t\\t\\t<option value=\"DN_and_CI\">Beyond HKU (HKALL + Interlibrary Loan)</option><br />\\n\\t\\t</select>\\n<p>\\n\\t\\t\\t<input id=\"submit-findit-form\" title=\"Search\" type=\"button\" value=\"Search\" />\\n\\t\\t</p>\\n<div class=\"hiddeninput\">\\n\\t\\t\\t<input id=\"mode\" name=\"mode\" type=\"hidden\" value=\"Basic\" /><br />\\n\\t\\t\\t<input name=\"vid\" type=\"hidden\" value=\"852JULAC_HKU:HKU\" /><br />\\n\\t\\t\\t<input name=\"displayMode\" type=\"hidden\" value=\"full\" /><br />\\n\\t\\t\\t<input name=\"bulkSize\" type=\"hidden\" value=\"20\" /><br />\\n\\t\\t\\t<input name=\"highlight\" type=\"hidden\" value=\"true\" /><br />\\n\\t\\t\\t<input name=\"dum\" type=\"hidden\" value=\"true\" /><br />\\n\\t\\t\\t<input id=\"searchQuery\" name=\"query\" type=\"hidden\" /><br />\\n\\t\\t\\t<input name=\"displayField\" type=\"hidden\" value=\"all\" /><br />\\n\\t\\t\\t<input id=\"tab\" name=\"tab\" type=\"hidden\" value=\"Everything\" />\\n\\t\\t</div>\\n</form>\\n</div>\\n<!--advanced search--><div class=\"search-bar advanced\">\\n<form action=\"https://julac-hku.primo.exlibrisgroup.com/discovery/search\" enctype=\"application/x-www-form-urlencoded\" id=\"book-form\" method=\"get\" name=\"book-form\">\\n\\t\\t<label class=\"access\" for=\"primo_bk_title\">Book Title</label><br />\\n\\t\\t<input id=\"primo_bk_title\" placeholder=\"Book Title\" type=\"text\" /><br />\\n\\t\\t<span class=\"seperator\"> </span><br />\\n\\t\\t<label class=\"access\" for=\"primo_author\">Book Author</label><br />\\n\\t\\t<input id=\"primo_author\" placeholder=\"Book Author\" type=\"text\" /><br />\\n\\t\\t<input id=\"submit-book-form\" title=\"Search\" type=\"button\" value=\"Search\" />\\n<div class=\"hiddeninput\">\\n\\t\\t\\t<input name=\"mode\" type=\"hidden\" value=\"advanced\" /><br />\\n\\t\\t\\t<input name=\"search_scope\" type=\"hidden\" value=\"MyInstitution\" /><br />\\n\\t\\t\\t<input name=\"tab\" type=\"hidden\" value=\"LibraryCatalog\" /><br />\\n\\t\\t\\t<input name=\"pfilter\" type=\"hidden\" value=\"rtype,exact,books\" /><br />\\n\\t\\t\\t<input id=\"book_author_query\" name=\"query\" type=\"hidden\" /><br />\\n\\t\\t\\t<input id=\"book_bk_title_query\" name=\"query\" type=\"hidden\" /><br />\\n\\t\\t\\t<input name=\"vid\" type=\"hidden\" value=\"852JULAC_HKU:HKU\" />\\n\\t\\t</div>\\n</form>\\n<form action=\"https://julac-hku.primo.exlibrisgroup.com/discovery/search\" enctype=\"application/x-www-form-urlencoded\" id=\"journal-form\" method=\"get\" name=\"journal-form\">\\n\\t\\t<label class=\"access\" for=\"article_title\">Article Title</label><br />\\n\\t\\t<input id=\"article_title\" placeholder=\"Article Title\" type=\"text\" /><br />\\n\\t\\t<input id=\"submit-journal-form\" title=\"Search\" type=\"button\" value=\"Search\" />\\n<div class=\"hiddeninput\">\\n\\t\\t\\t<input name=\"mode\" type=\"hidden\" value=\"advanced\" /><br />\\n\\t\\t\\t<input name=\"search_scope\" type=\"hidden\" value=\"CentralIndex\" /><br />\\n\\t\\t\\t<input name=\"tab\" type=\"hidden\" value=\"CentralIndex\" /><br />\\n\\t\\t\\t<input name=\"pfilter\" type=\"hidden\" value=\"rtype,exact,articles\" /><br />\\n\\t\\t\\t<input id=\"article_title_query\" name=\"query\" type=\"hidden\" /><br />\\n\\t\\t\\t<input name=\"vid\" type=\"hidden\" value=\"852JULAC_HKU:HKU\" />\\n\\t\\t</div>\\n</form>\\n</div>\\n<!--Electronic Resources--><div class=\"search-bar electronic\">\\n<form action=\"https://julac-hku.primo.exlibrisgroup.com/discovery/search\" id=\"electronic-form\" method=\"get\">\\n\\t\\t<label class=\"access\" for=\"search_electronic\">Search electronic resources</label><br />\\n\\t\\t<input class=\"keyword-textbox\" id=\"search_electronic\" placeholder=\"Search electronic resources\" title=\"Keywords\" type=\"text\" /><br />\\n\\t\\t<input id=\"se\" name=\"se\" title=\"Search\" type=\"submit\" value=\"Search\" />\\n<div class=\"hiddeninput\">\\n\\t\\t\\t<input id=\"seQuery\" name=\"query\" type=\"hidden\" /><br />\\n\\t\\t\\t<input name=\"tab\" type=\"hidden\" value=\"HKU_ER\" /><br />\\n\\t\\t\\t<input name=\"search_scope\" type=\"hidden\" value=\"HKU_ER\" /><br />\\n\\t\\t\\t<input name=\"vid\" type=\"hidden\" value=\"852JULAC_HKU:HKU_ER\" /><br />\\n\\t\\t\\t<input name=\"offset\" type=\"hidden\" value=\"0\" />\\n\\t\\t</div>\\n</form>\\n</div>\\n<!--Reading List--><div class=\"search-bar reading\">\\n<form action=\"https://julac-hku.alma.exlibrisgroup.com/leganto/public/852JULAC_HKU/searchlists\" id=\"reading\" method=\"get\"><label class=\"access\" for=\"search\">Search reading list</label> <input class=\"keyword-textbox\" id=\"search\" name=\"search\" placeholder=\"Search reading list\" title=\"Keywords\" type=\"text\" /> <input id=\"sr\" name=\"sr\" title=\"Search\" type=\"submit\" value=\"Search\" />\\n<div class=\"hiddeninput\"><input name=\"auth\" type=\"hidden\" value=\"SAML\" /></div>\\n</form>\\n</div>\\n<!--site search--><div class=\"search-bar site\">\\n<form action=\"https://www.google.com/cse\" id=\"site_search\" method=\"get\" target=\"_blank\"><label class=\"access\" for=\"search_google\">Search library services and facilities</label> <input class=\"keyword-textbox\" id=\"search_google\" name=\"q\" placeholder=\"Search library services and facilities\" title=\"Keywords\" type=\"text\" /> <input id=\"sa\" name=\"sa\" title=\"Search\" type=\"submit\" value=\"Search\" />\\n<div class=\"hiddeninput\"><input name=\"cx\" type=\"hidden\" value=\"006773944838018721806:vyvk2lk8uno\" /> <input name=\"ie\" type=\"hidden\" value=\"UTF-8\" /></div>\\n</form>\\n</div>\\n<!--forms--></div>  </div>  </div>\\n    </div>\\n  \\n  \\n  \\n  \\n  \\n  \\n</div></div>\\n</div>\\n<div class=\"row directories\">\\n<div class=\"col-xs-12 col-sm-4 col-sm-push-8\">\\n<div class=\"overlaybox\" style=\"padding: 0\"><div class=\"view view-slides view-id-slides view-display-id-default view-dom-id-a9d44bf5bf175cfcbf946e3b093df56f\">\\n            <div class=\"view-header\">\\n      <div itemscope itemtype=\"http://schema.org/Organization\">\\n<span itemprop=\"name\" content=\"HKU Main Library\"></span>\\n<span itemprop=\"description\"></span>\\n<time itemprop=\"openingHours\" datetime=\"Mo,Tu,We,Th,Fr 08:30-23:00\"></time>\\n<span itemprop=\"telephone\" content=\"+85228592203\"></span>\\n</div>    </div>\\n  \\n  \\n  \\n      <div class=\"view-content\">\\n      \\n  <div class=\"skin-default\">\\n    \\n    <div id=\"views_slideshow_cycle_main_slides-default\" class=\"views_slideshow_cycle_main views_slideshow_main\"><div id=\"views_slideshow_cycle_teaser_section_slides-default\" class=\"views-slideshow-cycle-main-frame views_slideshow_cycle_teaser_section\">\\n  <div id=\"views_slideshow_cycle_div_slides-default_0\" class=\"views-slideshow-cycle-main-frame-row views_slideshow_cycle_slide views_slideshow_slide views-row-1 views-row-odd\">\\n  <div class=\"views-slideshow-cycle-main-frame-row-item views-row views-row-0 views-row-odd views-row-first\">\\n    \\n          <a href=\"https://www.hkul111.hku.hk/events/basil-paos-carnival-of-dreams\"><img typeof=\"foaf:Image\" class=\"img-responsive\" src=\"/sites/all/files/images/index/Carnival%20of%20Dreams%20Poster%20%28Square%29%20%281%29.png\" width=\"1080\" height=\"1080\" alt=\"Carnival Of Dreams Exhibition\" /></a>  </div>\\n</div>\\n<div id=\"views_slideshow_cycle_div_slides-default_1\" class=\"views-slideshow-cycle-main-frame-row views_slideshow_cycle_slide views_slideshow_slide views-row-2 views_slideshow_cycle_hidden views-row-even\">\\n  <div class=\"views-slideshow-cycle-main-frame-row-item views-row views-row-1 views-row-even\">\\n    \\n          <a href=\"https://www.hkul111.hku.hk/events/her-rights-money-power-autonomy\"><img typeof=\"foaf:Image\" class=\"img-responsive\" src=\"/sites/all/files/images/index/Her%20Rights_Key%20Visual.jpg\" width=\"4500\" height=\"4500\" alt=\"Her Rights! Money, power, autonomy\" /></a>  </div>\\n</div>\\n<div id=\"views_slideshow_cycle_div_slides-default_2\" class=\"views-slideshow-cycle-main-frame-row views_slideshow_cycle_slide views_slideshow_slide views-row-3 views_slideshow_cycle_hidden views-row-odd\">\\n  <div class=\"views-slideshow-cycle-main-frame-row-item views-row views-row-2 views-row-odd\">\\n    \\n          <a href=\"https://hkbu.zoom.us/webinar/register/WN_sefFKq6KRcO-7yUScLFmnQ#/registration\"><img typeof=\"foaf:Image\" class=\"img-responsive\" src=\"/sites/all/files/images/index/JULAC%20Webinar%20Series_Generative%20AI_Social%20media%20post.png\" width=\"1080\" height=\"1080\" alt=\"Elevate your scholarship: Exploring Generative AI with Your Library\" /></a>  </div>\\n</div>\\n<div id=\"views_slideshow_cycle_div_slides-default_3\" class=\"views-slideshow-cycle-main-frame-row views_slideshow_cycle_slide views_slideshow_slide views-row-4 views_slideshow_cycle_hidden views-row-even\">\\n  <div class=\"views-slideshow-cycle-main-frame-row-item views-row views-row-3 views-row-even\">\\n    \\n          <a href=\"https://hub.hku.hk/researchdata/resources2.htm\"><img typeof=\"foaf:Image\" class=\"img-responsive\" src=\"/sites/all/files/images/index/RDA%20hkul%20homepage.png\" width=\"800\" height=\"800\" alt=\"Research Data Academy_March to May 2024\" /></a>  </div>\\n</div>\\n<div id=\"views_slideshow_cycle_div_slides-default_4\" class=\"views-slideshow-cycle-main-frame-row views_slideshow_cycle_slide views_slideshow_slide views-row-5 views_slideshow_cycle_hidden views-row-odd\">\\n  <div class=\"views-slideshow-cycle-main-frame-row-item views-row views-row-4 views-row-odd\">\\n    \\n          <a href=\"https://lib.hku.hk/general/hours/weekly.html\"><img typeof=\"foaf:Image\" class=\"img-responsive\" src=\"/sites/all/files/images/index/2024_3_Easter_Roller.png\" width=\"2048\" height=\"2048\" alt=\"University Libraries Opening Hours during Easter and Ching Ming Festival Holidays\" /></a>  </div>\\n</div>\\n<div id=\"views_slideshow_cycle_div_slides-default_5\" class=\"views-slideshow-cycle-main-frame-row views_slideshow_cycle_slide views_slideshow_slide views-row-6 views_slideshow_cycle_hidden views-row-even\">\\n  <div class=\"views-slideshow-cycle-main-frame-row-item views-row views-row-5 views-row-even\">\\n    \\n          <a href=\"https://libguides.lib.hku.hk/openaccess/ta\"><img typeof=\"foaf:Image\" class=\"img-responsive\" src=\"/sites/all/files/images/index/homepage%20roller.png\" width=\"1080\" height=\"1080\" alt=\"\" /></a>  </div>\\n</div>\\n<div id=\"views_slideshow_cycle_div_slides-default_6\" class=\"views-slideshow-cycle-main-frame-row views_slideshow_cycle_slide views_slideshow_slide views-row-7 views_slideshow_cycle_hidden views-row-odd\">\\n  <div class=\"views-slideshow-cycle-main-frame-row-item views-row views-row-6 views-row-odd\">\\n    \\n          <a href=\"https://libguides.lib.hku.hk/openaccess/OA-Fund\"><img typeof=\"foaf:Image\" class=\"img-responsive\" src=\"/sites/all/files/images/index/OA%20Fund%20website%20roller.png\" width=\"516\" height=\"516\" alt=\"OA Fund website roller\" /></a>  </div>\\n</div>\\n<div id=\"views_slideshow_cycle_div_slides-default_7\" class=\"views-slideshow-cycle-main-frame-row views_slideshow_cycle_slide views_slideshow_slide views-row-8 views_slideshow_cycle_hidden views-row-even\">\\n  <div class=\"views-slideshow-cycle-main-frame-row-item views-row views-row-7 views-row-even\">\\n    \\n          <a href=\"https://blog-sc.hku.hk/\"><img typeof=\"foaf:Image\" class=\"img-responsive\" src=\"/sites/all/files/images/index/SC%20blog%20-%20roller%20banner.png\" width=\"516\" height=\"516\" alt=\"Research Connect Blogs\" /></a>  </div>\\n</div>\\n<div id=\"views_slideshow_cycle_div_slides-default_8\" class=\"views-slideshow-cycle-main-frame-row views_slideshow_cycle_slide views_slideshow_slide views-row-9 views_slideshow_cycle_hidden views-row-odd\">\\n  <div class=\"views-slideshow-cycle-main-frame-row-item views-row views-row-8 views-row-odd views-row-last\">\\n    \\n          <a href=\"https://www.rgcgateway.hk/en\"><img typeof=\"foaf:Image\" class=\"img-responsive\" src=\"/sites/all/files/images/index/RGC%20Gateway%20-%20roller%20banner.png\" width=\"516\" height=\"516\" alt=\"The RGC Publication Gateway\" /></a>  </div>\\n</div>\\n</div>\\n</div>\\n          <div class=\"views-slideshow-controls-bottom clearfix\">\\n        <div id=\"views_slideshow_controls_text_slides-default\" class=\"views-slideshow-controls-text views_slideshow_controls_text\">\\n  <span id=\"views_slideshow_controls_text_previous_slides-default\" class=\"views-slideshow-controls-text-previous views_slideshow_controls_text_previous\"><a href=\"#\"><img src=\"https://cdn2.iconfinder.com/data/icons/picol-vector/32/arrow_sans_left-128.png\" width=\"10\" height=\"10\" alt=\"Left Arrow\"></a></span>\\n  <span id=\"views_slideshow_controls_text_pause_slides-default\" class=\"views-slideshow-controls-text-pause views_slideshow_controls_text_pause  views-slideshow-controls-text-status-play\"><a href=\"#\">Pause</a></span>\\n  <span id=\"views_slideshow_controls_text_next_slides-default\" class=\"views-slideshow-controls-text-next views_slideshow_controls_text_next\"><a href=\"#\"><img src=\"https://cdn3.iconfinder.com/data/icons/picol-vector/32/arrow_sans_right-128.png\" width=\"10\" height=\"10\" alt=\"Right Arrow\"></a></span>\\n</div>\\n<div id=\"views_slideshow_slide_counter_slides-default\" class=\"views-slideshow-slide-counter views_slideshow_slide_counter\">\\n  <span class=\"num\">1</span> of <span class=\"total\">9</span>\\n</div>\\n      </div>\\n      </div>\\n    </div>\\n  \\n  \\n  \\n  \\n  \\n  \\n</div></div>\\n<div class=\"overlaybox\"><div class=\"view view-home-nav-column-3 view-id-home_nav_column_3 view-display-id-default view-dom-id-8ffbd2d29398b1cb3cb2b739c3f97175\">\\n        \\n  \\n  \\n      <div class=\"view-content\">\\n        <div class=\"views-row views-row-1 views-row-odd views-row-first views-row-last\">\\n      \\n  <div class=\"views-field views-field-body\">        <div class=\"field-content\"><h2 class=\"title ask\">Ask a Librarian</h2>\\n<ul>\\n<li><a class=\"whatsapp\" href=\"/infoservices/whatsapp.html\">WhatsApp us at 5441-5441</a></li>\\n<li><a class=\"email\" href=\"/infoservices/email.html\">Email</a></li>\\n<li><a class=\"call\" href=\"/general/contactus_staff.html\">Call us at 3917-2202</a></li>\\n<!--\\n\\t<li><p><a class=\"info\" href=\"/infoservices/counter.html\">Information service</a></li>\\n<p><span class=\"desc indent\">(Level 3 Main Library)</span></li>\\n<p>-->\\n<li><a href=\"/mainlib/reference/research_consult.html\">Research Consultation</a>\\xa0</li>\\n<!--\\n\\t<li><p><a href=\"/general/help.html\">More information</a></li>\\n<p>-->\\n</ul>\\n</div>  </div>  </div>\\n    </div>\\n  \\n  \\n  \\n  \\n  \\n  \\n</div></div>\\n</div>\\n<div class=\"col-xs-12 col-sm-4 col-sm-pull-4\">\\n<div class=\"overlaybox\"><div class=\"view view-home-nav-column-1 view-id-home_nav_column_1 view-display-id-default view-dom-id-e144c3e4d8213f93db01f114edbf7736\">\\n        \\n  \\n  \\n      <div class=\"view-content\">\\n        <div class=\"views-row views-row-1 views-row-odd views-row-first views-row-last\">\\n      \\n  <div class=\"views-field views-field-body\">        <div class=\"field-content\"><h2 class=\"title services\">Services for</h2>\\n<ul>\\n<li><a href=\"/userinfo/student.html\">Students</a>\\xa0</li>\\n<li><a href=\"/userinfo/staff.html\">Staff</a></li>\\n<li><a href=\"/userinfo/graduate.html\">Graduates</a></li>\\n<li><a href=\"/userinfo/public.html\">Public/Visitors</a></li>\\n</ul>\\n<h2 class=\"title research\">Learning &amp; Research</h2>\\n<ul>\\n<li><a href=\"https://libguides.lib.hku.hk/readinglist\">ReadingList@HKUL</a><br />\\n\\t<span class=\"desc\">(Course Reserve)</span></li>\\n<li><a href=\"/endnote/index.html\">EndNote</a><br />\\n\\t<span class=\"desc\">(Citation Management)</span></li>\\n<li><a href=\"https://libguides.lib.hku.hk/turnitin\">Turnitin</a><br />\\n\\t<span class=\"desc\">(Plagiarism Checking)</span></li>\\n<li><a href=\"http://hub.hku.hk/\" target=\"_blank\">HKU Scholars Hub</a><br />\\n\\t<span class=\"desc\">(Institutional Repository)</span></li>\\n<li><a href=\"https://hub.hku.hk/researchdata/\" target=\"_blank\">Research Data Services</a></li>\\n<li><a href=\"https://libguides.lib.hku.hk/researchsupport\" target=\"_blank\">Research Support@HKUL</a></li>\\n<li><a href=\"https://libguides.lib.hku.hk/\">Subject Guides</a></li>\\n<li><a href=\"/general/instruction/index.html\">Training</a></li>\\n</ul>\\n</div>  </div>  </div>\\n    </div>\\n  \\n  \\n  \\n  \\n  \\n  \\n</div></div>\\n</div>\\n<div class=\"col-xs-12 col-sm-4 col-sm-pull-4\">\\n<div class=\"overlaybox\"><div class=\"view view-home-nav-column-2 view-id-home_nav_column_2 view-display-id-default view-dom-id-45675d1c6868de499b714a8a07c78c25\">\\n        \\n  \\n  \\n      <div class=\"view-content\">\\n        <div class=\"views-row views-row-1 views-row-odd views-row-first views-row-last\">\\n      \\n  <div class=\"views-field views-field-body\">        <div class=\"field-content\"><h2 class=\"title tools\">Tools</h2>\\n<ul>\\n<li><a href=\"http://find.lib.hku.hk/\" target=\"_blank\">Find@HKUL</a></li>\\n<li><a href=\"http://libguides.lib.hku.hk/az.php\" target=\"_blank\">Electronic Resources</a></li>\\n<li><a href=\"/database/index.html\">HKUL Digital Initiatives</a><br />\\n\\t<span class=\"desc\">(Digitized Collections)</span></li>\\n<li><a href=\"https://browzine.com/libraries/371/subjects\">BrowZine</a><br />\\n\\t<span class=\"desc\">(Digital Magazines &amp; Journals)</span></li>\\n<li><a href=\"https://elearning-resource.hku.hk/\" target=\"_blank\">e-Learning Resource Hub</a></li>\\n</ul>\\n<h2 class=\"title about\">About HKUL</h2>\\n<ul>\\n<li><a href=\"/general/abouthkul/index.html\">About HKUL</a></li>\\n<li><a href=\"/general/policy.html\">Policy</a></li>\\n<li><a href=\"/general/contactus.html\">Contact us</a></li>\\n<li><a href=\"/giving/index.html\">Giving to HKUL</a></li>\\n<li><a href=\"/publications/index.html\">Publications</a></li>\\n</ul>\\n</div>  </div>  </div>\\n    </div>\\n  \\n  \\n  \\n  \\n  \\n  \\n</div></div>\\n</div>\\n</div>\\n</div>\\n</div>\\n<div class=\"home-lower-container\">\\n<div class=\"region-content\">\\n<div class=\"row directories\">\\n<div class=\"col-sm-12\">\\n<div class=\"overlaybox\"><div class=\"view view-home-hours-locations view-id-home_hours_locations view-display-id-default view-dom-id-b9c1034bd66fdc2e228df797f8eb0009\">\\n        \\n  \\n  \\n      <div class=\"view-content\">\\n        <div class=\"views-row views-row-1 views-row-odd views-row-first views-row-last\">\\n      \\n  <div class=\"views-field views-field-body\">        <div class=\"field-content\"><h2 class=\"title hours\">Hours &amp; Locations</h2>\\n<ul class=\"hours-locations\">\\n<li><a href=\"/mainlib/index.html\">Main Library</a><br />\\n\\t<span class=\"loc\">Main Library</span><br />\\n\\t<span class=\"hrs\"><span id=\"MAI\">---</span></span><br />\\n\\t<span class=\"hrs\"><span id=\"COR\">---</span> (Overnight area)</span></li>\\n<li><a href=\"/ingenium/index.html\">Ingenium</a><br />\\n\\t<span class=\"loc\">2/F Main Library</span></li>\\n<li><a href=\"/level3/index.html\">Level 3</a><br />\\n\\t<span class=\"loc\">3/F Main Library</span></li>\\n<li><a href=\"/mediaservices/main.html\">Media Services (co-branded LES)</a><br />\\n\\t<span class=\"loc\">2/F LIC, Main Library </span><br />\\n\\t<span class=\"hrs\"><span id=\"MAV\">---</span></span></li>\\n</ul>\\n<ul class=\"hours-locations\">\\n<li><a href=\"/muslib/index.html\">Music Library</a><br />\\n\\t<span class=\"loc\">11/F Run Run Shaw Tower</span><br />\\n\\t<span class=\"hrs\"><span id=\"MUS\">---</span></span></li>\\n<li><a href=\"/edulib/index.html\">Tin Ka Ping Education Library</a><br />\\n\\t<span class=\"loc\">Level 3 (Old Wing), Main Library</span><br />\\n\\t<span class=\"hrs\"><span id=\"EDU\">---</span></span></li>\\n<li><a href=\"/medlib/index.html\">Yu Chun Keung Medical Library</a><br />\\n\\t<span class=\"loc\">LG1 William MW Mong Block</span><br />\\n\\t<span class=\"hrs\"><span id=\"MED\">---</span></span><br />\\n\\t<span class=\"hrs\"><span id=\"24H\">---</span> (Overnight area)</span></li>\\n<li><a href=\"/denlib/index.html\">Dental Library</a><br />\\n\\t<span class=\"loc\">5-6/F Prince Philip Dental Hospital</span><br />\\n\\t<span class=\"hrs\"><span id=\"DEN\">---</span></span></li>\\n<li><a href=\"/fpslib/index.html\">Fung Ping Shan Library</a><br />\\n\\t<span class=\"loc\">4-6/F Main Library</span><br />\\n\\t<span class=\"hrs\"><span id=\"FPS\">---</span></span></li>\\n<li><a href=\"/lawlib/index.html\">Lui Che Woo Law Library</a><br />\\n\\t<span class=\"loc\">1-2/F Cheng Yu Tung Tower</span><br />\\n\\t<span class=\"hrs\"><span id=\"LAW\">---</span></span>\\n<p>\\xa0</p>\\n</li>\\n<li>Archives &amp; Special Collections (ASC)<br />\\n\\t<span class=\"loc\">1/F, Main Library</span>\\n<div style=\"margin-left:20px; margin-top:10px\"><a href=\"http://www.uarchive.hku.hk/\">University Archives</a><br />\\n\\t<span class=\"desc\">by appointment</span><br />\\n\\t<span class=\"desc\"><a href=\"mailto:hkua@hku.hk\">hkua@hku.hk</a></span></div>\\n<div style=\"margin-left:20px; margin-top:10px\"><a href=\"/hkspc/index.html\">Special Collections</a><br />\\n\\t<span class=\"desc\"><span id=\"SPE\">---</span></span><br />\\n\\t<span class=\"desc\">by appointment</span><br />\\n\\t<span class=\"desc\"><a href=\"mailto:libspeco@hku.hk\">libspeco@hku.hk</a></span></div>\\n<div style=\"margin-left:20px; margin-top:10px\"><a href=\"/preservation/index.html\">Preservation &amp; Conservation</a><br />\\n\\t<span class=\"desc\">HKUL Preservation Centre</span></div>\\n</li>\\n</ul>\\n<script>\\n<!--//--><![CDATA[// ><!--\\n\\njQuery(document).ready(function ($) {\\n\\tvar date = new Date();\\n\\tvar date_temp = getDate(date);\\n\\t$.getJSON(\\'/hours/json/opening_hours_\\'+date_temp+\\'.json\\', function(data) {\\n\\t\\t$.each(data, function(index, element) {\\n\\t\\t\\tif (index == \\'DateFN\\')\\t{\\t/*$(\\'#Date\\').html(element);\\talert(element);*/\\t\\t}\\n\\t\\t\\tif (index == \\'MAI\\')\\t\\t{\\t$(\\'#MAI\\').html(element);\\t$(\\'#FPS\\').html(element);\\t$(\\'#EDU\\').html(element);\\t}\\n\\t\\t\\t//if (index == \\'COL\\')\\t\\t{\\t$(\\'#COL\\').html(element);\\t}\\n\\t\\t\\tif (index == \\'COR\\')\\t\\t{\\t$(\\'#COR\\').html(element);\\t}\\n\\t\\t\\tif (index == \\'MAV\\')\\t\\t{\\t$(\\'#MAV\\').html(element);\\t/*$(\\'#LIC\\').html(element);*/\\t}\\n\\t\\t\\tif (index == \\'SPE\\')\\t\\t{\\t$(\\'#SPE\\').html(element);\\t}\\n\\t\\t\\tif (index == \\'DEN\\')\\t\\t{\\t$(\\'#DEN\\').html(element);\\t}\\n\\t\\t\\t//if (index == \\'EDU\\')\\t\\t{\\t$(\\'#EDU\\').html(element);\\t}\\n\\t\\t\\tif (index == \\'LAW\\')\\t\\t{\\t$(\\'#LAW\\').html(element);\\t}\\n\\t\\t\\tif (index == \\'MUS\\')\\t\\t{\\t$(\\'#MUS\\').html(element);\\t}\\n\\t\\t\\tif (index == \\'MED\\')\\t\\t{\\t$(\\'#MED\\').html(element);\\t}\\n\\t\\t\\tif (index == \\'24H\\')\\t\\t{\\t$(\\'#24H\\').html(element);\\t}\\n\\t\\t\\t//alert(index);\\n\\t\\t});\\n\\t})\\n\\n\\tfunction getDate(date) {\\n\\t\\tvar yyyy = date.getFullYear().toString();\\n\\t\\tvar mm = (date.getMonth()+1).toString(); // getMonth() is zero-based\\n\\t\\tvar dd  = date.getDate().toString();\\n\\t\\treturn yyyy + \\'-\\' + (mm[1]?mm:\"0\"+mm[0]) + \\'-\\' + (dd[1]?dd:\"0\"+dd[0]); // padding\\n\\t}\\n});\\n\\n//--><!]]>\\n</script></div>  </div>  </div>\\n    </div>\\n  \\n  \\n  \\n  \\n  \\n  \\n</div></div>\\n</div>\\n</div>\\n<div class=\"row directories\">\\n<div class=\"col-sm-12\">\\n<div class=\"overlaybox\">\\n<h2 class=\"title news\">News and Announcements @ HKUL</h2>\\n<div class=\"view view-communication-hkul view-id-communication_hkul view-display-id-default view-dom-id-234cdec974a7e0adbe3456c2d9573318\">\\n        \\n  \\n  \\n      <div class=\"view-content\">\\n        <div class=\"views-row views-row-1 views-row-odd views-row-first\">\\n      \\n  <div class=\"views-field views-field-field-commun-url-link\">        <div class=\"field-content\"><a href=\"https://lib.hku.hk/newsblog/?p=2024\">Librarian’s Message re: HKU Libraries supports Open Scholarship 2024</a></div>  </div>  </div>\\n  <div class=\"views-row views-row-2 views-row-even\">\\n      \\n  <div class=\"views-field views-field-field-commun-url-link\">        <div class=\"field-content\"><a href=\"https://lib.hku.hk/newsblog/?p=1995\">Extension of Access to University Facilities for Class of 2023</a></div>  </div>  </div>\\n  <div class=\"views-row views-row-3 views-row-odd\">\\n      \\n  <div class=\"views-field views-field-field-commun-url-link\">        <div class=\"field-content\"><a href=\"https://lib.hku.hk/newsblog/?p=1991\">New Policy on Excessive Downloading in Electronic Resources</a></div>  </div>  </div>\\n  <div class=\"views-row views-row-4 views-row-even\">\\n      \\n  <div class=\"views-field views-field-field-commun-url-link\">        <div class=\"field-content\"><a href=\"https://lib.hku.hk/newsblog/?p=1971\">Librarian Message re: Update to the Special Collections Access Procedures</a></div>  </div>  </div>\\n  <div class=\"views-row views-row-5 views-row-odd\">\\n      \\n  <div class=\"views-field views-field-field-commun-url-link\">        <div class=\"field-content\"><a href=\"https://lib.hku.hk/acqlist/\">New Acquisitions List</a></div>  </div>  </div>\\n  <div class=\"views-row views-row-6 views-row-even\">\\n      \\n  <div class=\"views-field views-field-field-commun-url-link\">        <div class=\"field-content\"><a href=\"https://lib.hku.hk/newsblog/?p=886\">Beware: a phishing e-mail pretending to be from the Libraries</a></div>  </div>  </div>\\n  <div class=\"views-row views-row-7 views-row-odd views-row-last\">\\n      \\n  <div class=\"views-field views-field-field-commun-url-link\">        <div class=\"field-content\"><a href=\"https://lib.hku.hk/cgi-bin/check_form/slc\">Senate Library Committee Agendas and Minutes</a></div>  </div>  </div>\\n    </div>\\n  \\n  \\n  \\n  \\n  \\n  \\n</div> <a class=\"more\" href=\"https://lib.hku.hk/newsblog/\">...More news and announcements</a></div>\\n</div>\\n</div>\\n</div>\\n</div>\\n</div>\\n</section>\\n</div>\\n</div>\\n<footer class=\"footer container\">   <div class=\"region region-footer\">\\n    <section id=\"block-block-2\" class=\"block block-block clearfix\">\\n\\n      \\n  <div id=\"backtotop\"><a class=\"backtotop\" href=\"#\">Back to Top</a></div>\\n\\n</section>\\n<section id=\"block-block-3\" class=\"block block-block clearfix\">\\n\\n      \\n  <div id=\"sideBar\">\\n<div class=\"sideBarTab search\"><a href=\"https://julac-hku.primo.exlibrisgroup.com/discovery/search?vid=852JULAC_HKU:HKU\">Find @HKUL</a></div>\\n<div class=\"sideBarTab mya\"><a href=\"https://julac-hku.primo.exlibrisgroup.com/discovery/account?vid=852JULAC_HKU:HKU&amp;section=overview&amp;lang=en\">MyAccount @HKUL</a></div>\\n<div class=\"sideBarTab book\"><a href=\"/general/e-form/book-a-space.html\">Book a Space</a></div>\\n<div class=\"sideBarTab ask\"><a href=\"/general/help.html\">Ask a Librarian</a></div>\\n<div class=\"sideBarTab hour\"><a href=\"/general/hours/index.html\">Hours &amp; locations</a></div>\\n</div>\\n\\n</section>\\n<section id=\"block-block-4\" class=\"block block-block clearfix\">\\n\\n      \\n  <div class=\"social_section\">\\n<ul>\\n<li><a class=\"fb\" href=\"https://www.facebook.com/hkulib\" target=\"_blank\" title=\"Follow us on Facebook\">Facebook</a></li>\\n<li><a class=\"ig\" href=\"https://www.instagram.com/hkulibrary/\" target=\"_blank\" title=\"Follow us on Instagram\">Instagram</a></li>\\n<li><a class=\"yt\" href=\"https://www.youtube.com/c/HKULibrariesCollection\" target=\"_blank\" title=\"Follow us on YouTube\">YouTube</a></li>\\n</ul>\\n</div>\\n<div class=\"footer_links_section\">\\n<ul>\\n<li><a href=\"https://lib.hku.hk/general/abouthkul/index.html\"><strong>About HKUL</strong></a>\\n<ul>\\n<li><a href=\"https://lib.hku.hk/general/strategicplan.html\">Strategic Plan</a></li>\\n<li><a href=\"https://lib.hku.hk/general/services/regulations.html\">Library Regulations</a>\\n<ul>\\n<li><a href=\"https://lib.hku.hk/general/AR/index.html\">Annual Report</a></li>\\n<li><a href=\"https://lib.hku.hk/general/focus/index.html\">FOCUS Newsletter</a></li>\\n</ul>\\n</li>\\n<li>Borrowing and Requesting\\n<ul>\\n<li><a href=\"https://lib.hku.hk/cdd/index.html\">Borrow, Renew, Recall</a></li>\\n<li><a href=\"https://lib.hku.hk/cdd/ibs_books.html\">Inter-branch Delivery</a></li>\\n<li><a href=\"https://lib.hku.hk/mainlib/ill.html\">Interlibrary Loan</a></li>\\n<li><a href=\"https://lib.hku.hk/cdd/storage-request.html\">Storage Collection Request</a></li>\\n<li><a href=\"https://lib.hku.hk/cdd/equipment/index.html\">Equipment for loan</a></li>\\n</ul>\\n</li>\\n<li>Library Facilities\\n<ul>\\n<li><a href=\"https://lib.hku.hk/techsupport/photocopy.html\">Copy, Print, Scan</a></li>\\n<li><a href=\"https://lib.hku.hk/level3/zones.html#technology\">Computers</a></li>\\n<li><a href=\"https://lib.hku.hk/mainlib/facilities.html#E-Learning_Lab\">e-Learning Lab</a></li>\\n</ul>\\n</li>\\n<li><a href=\"https://lib.hku.hk/mainlib/borrowing/registration_counter.html\">Registration</a></li>\\n<li><a href=\"https://lib.hku.hk/mainlib/studyplace.html\">Study Space</a></li>\\n</ul>\\n</li>\\n</ul>\\n<ul>\\n<li><strong><a href=\"https://digitalrepository.lib.hku.hk/\">Digital Repository @ HKUL</a></strong>\\n<ul>\\n<li><a href=\"https://digitalrepository.lib.hku.hk/ctwe/\">China Through Western Eyes\\xa0</a></li>\\n<li><a href=\"https://digitalrepository.lib.hku.hk/evideo/\">e-Video\\xa0\\xa0</a></li>\\n<li><a href=\"https://digitalrepository.lib.hku.hk/collection/w0892999t\">HKUL eBooks</a></li>\\n<li><a href=\"https://digitalrepository.lib.hku.hk/collection/xd07h215b\">HKU Press Digital Editions</a></li>\\n<li><a href=\"https://digitalrepository.lib.hku.hk/hkwest/\">Hong Kong and the West until 1860</a></li>\\n<li><a href=\"https://digitalrepository.lib.hku.hk/hkhsa/\">Hong Kong Heritage Society Archives</a></li>\\n<li><a href=\"https://digitalrepository.lib.hku.hk/hkimage/\">Hong Kong Image Database</a></li>\\n<li><a href=\"https://digitalrepository-dev.lib.hku.hk/hkjo\">Hong Kong Journals Online</a></li>\\n<li><a href=\"https://lib.hku.hk/database/index.html\">More Digital Repository @ HKUL </a></li>\\n</ul>\\n</li>\\n</ul>\\n<ul>\\n<li><strong>Other Collections</strong>\\n<ul>\\n<li><a href=\"https://sunzi.lib.hku.hk/bldho/\">Basic Law Drafting History Online\\xa0</a></li>\\n<li><a href=\"https://evideo.lib.hku.hk/\">e-Video\\xa0\\xa0(to become obselete)\\xa0</a></li>\\n<li><a href=\"https://eproxy.lib.hku.hk/login?url=https://exambase.lib.hku.hk/\">ExamBase\\xa0</a></li>\\n<li><a href=\"https://fpslidx.lib.hku.hk/exhibits/show/fpslidx/home\">Fung Ping Shan Library Rare Books Online</a></li>\\n<li><a href=\"https://oelawhk.lib.hku.hk/\">Historical Laws of Hong Kong Online</a></li>\\n<li><a href=\"https://hub.hku.hk/\">HKU Scholars Hub</a></li>\\n<li><a href=\"https://lib.hku.hk/database/index.html\">More Collections</a></li>\\n</ul>\\n</li>\\n</ul>\\n<ul>\\n<li><a href=\"https://www.hku.hk\"><strong>The University of Hong Kong </strong></a>\\n<ul>\\n<li><a href=\"https://hku.hk/about/\">About The University of Hong Kong</a></li>\\n<li><a href=\"https://hku.hk/contact/\">Contact HKU</a></li>\\n<li><a href=\"https://hku.hk/prospective-students/\">Prospective Students</a></li>\\n<li><a href=\"https://hku.hk/current-students/\">Current Students</a></li>\\n<li><a href=\"https://tl.hku.hk/\">Teaching and Learning at HKU</a></li>\\n<li><a href=\"https://www.hr.hku.hk/career_opportunities/careers.html\">Careers</a></li>\\n</ul>\\n</li>\\n</ul>\\n</div>\\n\\n</section>\\n  </div>\\n </footer>\\n<footer class=\"footer-bottom container\">   <div class=\"region region-footer-bottom\">\\n    <section id=\"block-block-5\" class=\"block block-block clearfix\">\\n\\n      \\n  <div class=\"footer-bottom-1\">The University of Hong Kong Libraries,\\xa0<br />\\nThe University of Hong Kong , Pokfulam Road, Hong Kong\\xa0<br />\\nCopyright © 2020 All rights reserved.</div>\\n<div class=\"footer-bottom-2\"><a href=\"/general/privacy.html\">Privacy Policy</a> <a href=\"/general/copyright.html\">Copyright &amp; Disclaimer</a> <a href=\"/general/web-accessibility.html\">Web Accessibility</a></div>\\n\\n</section>\\n  </div>\\n </footer>\\n\\n<script src=\"/sites/all/themes/bootstrap/js/bootstrap.js?\"></script>\\n</body>\\n</html>\\n'"
            ],
            "application/vnd.google.colaboratory.intrinsic+json": {
              "type": "string"
            }
          },
          "metadata": {},
          "execution_count": 33
        }
      ]
    },
    {
      "cell_type": "markdown",
      "source": [
        "## Part 2: Extract the title text from HTML with string methods"
      ],
      "metadata": {
        "id": "lvzz6Rq4Binb"
      }
    },
    {
      "cell_type": "markdown",
      "source": [
        "Using the find method to a string type variable by passing the target. It will return the index in the string.\n",
        "\n",
        "String in python is a list of characters, so you can access each character by passing the index number or index range to the list to extract the part."
      ],
      "metadata": {
        "id": "RIS9S76jfqH5"
      }
    },
    {
      "cell_type": "markdown",
      "source": [
        "**Step 1: find the opening `<title>` tag**"
      ],
      "metadata": {
        "id": "5upV5A8dgdNm"
      }
    },
    {
      "cell_type": "code",
      "source": [
        "title_index = html.find(\"<title>\")\n",
        "title_index"
      ],
      "metadata": {
        "id": "4TJPzdvkFUi7",
        "colab": {
          "base_uri": "https://localhost:8080/"
        },
        "outputId": "9acfe118-cc1e-4182-f1c8-ef05999274ab"
      },
      "execution_count": 34,
      "outputs": [
        {
          "output_type": "execute_result",
          "data": {
            "text/plain": [
              "704"
            ]
          },
          "metadata": {},
          "execution_count": 34
        }
      ]
    },
    {
      "cell_type": "markdown",
      "source": [
        "**Step 2: Get the target text starting index by adding the length of the title tag**"
      ],
      "metadata": {
        "id": "pH7vQLMgg7vX"
      }
    },
    {
      "cell_type": "code",
      "source": [
        "start_index = title_index + len(\"<title>\")\n",
        "start_index"
      ],
      "metadata": {
        "id": "_xpUYntTFf8D",
        "colab": {
          "base_uri": "https://localhost:8080/"
        },
        "outputId": "419f83ec-4a99-469d-f181-4ed8237cb5d1"
      },
      "execution_count": 35,
      "outputs": [
        {
          "output_type": "execute_result",
          "data": {
            "text/plain": [
              "711"
            ]
          },
          "metadata": {},
          "execution_count": 35
        }
      ]
    },
    {
      "cell_type": "markdown",
      "source": [
        "**Step 3: find the closing </title> tag**"
      ],
      "metadata": {
        "id": "nfP_3LMFhPKe"
      }
    },
    {
      "cell_type": "code",
      "source": [
        "end_index = html.find(\"</title>\")\n",
        "end_index"
      ],
      "metadata": {
        "id": "6kHQGzdRFi7E",
        "colab": {
          "base_uri": "https://localhost:8080/"
        },
        "outputId": "32523ea2-5d97-453a-9d0f-66d2c950fc81"
      },
      "execution_count": 36,
      "outputs": [
        {
          "output_type": "execute_result",
          "data": {
            "text/plain": [
              "724"
            ]
          },
          "metadata": {},
          "execution_count": 36
        }
      ]
    },
    {
      "cell_type": "markdown",
      "source": [
        "**Step 4: Extract the title by slicing the html string**"
      ],
      "metadata": {
        "id": "emuR6n8oG8cd"
      }
    },
    {
      "cell_type": "code",
      "source": [
        "title = html[start_index:end_index]\n",
        "title"
      ],
      "metadata": {
        "id": "m2PNoSpmGE-Z",
        "colab": {
          "base_uri": "https://localhost:8080/",
          "height": 35
        },
        "outputId": "25742953-cf0a-45f7-8175-d2da89e1e181"
      },
      "execution_count": 37,
      "outputs": [
        {
          "output_type": "execute_result",
          "data": {
            "text/plain": [
              "'HKU Libraries'"
            ],
            "application/vnd.google.colaboratory.intrinsic+json": {
              "type": "string"
            }
          },
          "metadata": {},
          "execution_count": 37
        }
      ]
    },
    {
      "cell_type": "markdown",
      "source": [
        "A string in python can be extract by given the start and end index in a list\n",
        "\n",
        "Example:\n",
        "```\n",
        "example_string = 'abcdefg'\n",
        "extract = example_string[2:4]\n",
        "```\n",
        "\n",
        "Result:\n",
        "cd\n",
        "\n",
        "The above snippet try to extract the string start from the index 2 in the list and end before index 4. And remeber the start of index for a string is from 0."
      ],
      "metadata": {
        "id": "7ur1qskxGKR6"
      }
    },
    {
      "cell_type": "code",
      "source": [
        "example_string = 'abcdefg'\n",
        "extract = example_string[2:4]\n",
        "extract"
      ],
      "metadata": {
        "id": "6fZhUi86HHWe",
        "colab": {
          "base_uri": "https://localhost:8080/",
          "height": 35
        },
        "outputId": "1b6ec003-5209-41eb-92ef-97d68b4f04e6"
      },
      "execution_count": 38,
      "outputs": [
        {
          "output_type": "execute_result",
          "data": {
            "text/plain": [
              "'cd'"
            ],
            "application/vnd.google.colaboratory.intrinsic+json": {
              "type": "string"
            }
          },
          "metadata": {},
          "execution_count": 38
        }
      ]
    },
    {
      "cell_type": "markdown",
      "source": [
        "However, you need to know the extact string in the html document by performing string search, for example, if the title tag present with extract space like `< title>`, the string search method will return -1 because of no result so that we extract the wrong information.\n",
        "\n",
        "If we need to encounter all these problems in every single html documents, it is not a reliable way to achieve data collection efficiently.\n",
        "\n",
        "You may think about using pattren to help extraction, such as Regular Expressions, which is a common programming concept. However it is still take our time to write all rules to extract our target information."
      ],
      "metadata": {
        "id": "MBV9CcN-IGwK"
      }
    },
    {
      "cell_type": "markdown",
      "source": [
        "## Part 3: Use an HTML Parser (BeatifulSoup)"
      ],
      "metadata": {
        "id": "CPapCQw0BMHD"
      }
    },
    {
      "cell_type": "markdown",
      "source": [
        "Beautiful Soup is a Python library for pulling data out of HTML and XML files. It works with your favorite parser to provide idiomatic ways of navigating, searching, and modifying the parse tree. It commonly saves programmers hours or days of work.\n",
        "\n",
        "From Beautiful Soup documentation: https://www.crummy.com/software/BeautifulSoup/bs4/doc/#module-bs4"
      ],
      "metadata": {
        "id": "i74VLGxBHrUl"
      }
    },
    {
      "cell_type": "markdown",
      "source": [
        "### Scenario 1\n",
        "\n",
        "\n",
        "Your boss asked you to build web scraper to get the table List_of_countries_by_population_(United_Nations) from wikipedia"
      ],
      "metadata": {
        "id": "JHQP6MYB-Jvq"
      }
    },
    {
      "cell_type": "markdown",
      "source": [
        "### Let's define steps\n",
        "\n",
        "\n",
        "1. Import the necessary libraries\n",
        "2. Store our url into a variable\n",
        "3. Send request to the target and get the decoded text\n",
        "4. Construct the soup object with scraped text\n",
        "5. Extract all tables to a list\n",
        "6. Identify the target table for the country list\n",
        "7. Parse the table into a pandas dataframe"
      ],
      "metadata": {
        "id": "CvXYV0D6_ZfD"
      }
    },
    {
      "cell_type": "markdown",
      "source": [
        "### Step 1: import the library to our environment"
      ],
      "metadata": {
        "id": "JCWihZGxZ-TZ"
      }
    },
    {
      "cell_type": "code",
      "source": [
        "from bs4 import BeautifulSoup # this module helps in web scrapping.\n",
        "import requests # this module helps us to download a web page\n",
        "import pandas as pd"
      ],
      "metadata": {
        "id": "GK_nTMuy6tXG"
      },
      "execution_count": 39,
      "outputs": []
    },
    {
      "cell_type": "markdown",
      "source": [
        "### Step 2: store our url into a variable"
      ],
      "metadata": {
        "id": "XzyKmIOAaEnh"
      }
    },
    {
      "cell_type": "code",
      "source": [
        "#this url contains the data you need to scrape\n",
        "url = \"https://en.wikipedia.org/wiki/List_of_countries_by_population_(United_Nations)\""
      ],
      "metadata": {
        "id": "ToDkzsGNumka"
      },
      "execution_count": 40,
      "outputs": []
    },
    {
      "cell_type": "markdown",
      "source": [
        "To request the target url, we will use thrid party http client library \"requests\" instead of using the build-in urllib.\n",
        "\n",
        "The requests library will fetch the URI and return a response object. It helps us to check the status from server and the encoding in that object.\n",
        "\n",
        "In addition, it provide methods .content to access the byte stream or .text to access the decoded Unicode stream. That means it can give you the result with auto decoding.\n",
        "\n"
      ],
      "metadata": {
        "id": "l4HEJDS5MEfN"
      }
    },
    {
      "cell_type": "markdown",
      "source": [
        "### Step 3: send request to the target and get the decoded text"
      ],
      "metadata": {
        "id": "I7JxoYYLaJ4_"
      }
    },
    {
      "cell_type": "code",
      "source": [
        "data = requests.get(url).text"
      ],
      "metadata": {
        "id": "Rks3d7iO6yGV"
      },
      "execution_count": 41,
      "outputs": []
    },
    {
      "cell_type": "markdown",
      "source": [
        "### Step 4: Construct the soup object with scraped text"
      ],
      "metadata": {
        "id": "91nqR6vtaWEq"
      }
    },
    {
      "cell_type": "markdown",
      "source": [
        "<img src=\"https://upload.wikimedia.org/wikipedia/commons/e/eb/DOM_tree.svg\" width=\"200\">\n",
        "\n",
        "*image from wikimedia*\n",
        "\n",
        "By constructing the soup object, it helps to convert the \"plain text\" of the source code into a \"tag tree\" that can be used for analysis. We will use the html5lib which is installed in the Colab env by default, if you are using your local PC, please install the library by\n",
        "\n",
        "`pip install html5lib`\n",
        "\n",
        "To compare different parsers, please read: https://www.crummy.com/software/BeautifulSoup/bs4/doc/#installing-a-parser"
      ],
      "metadata": {
        "id": "gJ6CSsGNYoI0"
      }
    },
    {
      "cell_type": "code",
      "source": [
        "soup = BeautifulSoup(data, 'html5lib')"
      ],
      "metadata": {
        "id": "Pta7EScL6z2t"
      },
      "execution_count": 42,
      "outputs": []
    },
    {
      "cell_type": "markdown",
      "source": [
        "### Step 5:Extract all tables to a list"
      ],
      "metadata": {
        "id": "uaUH9j6fVRMr"
      }
    },
    {
      "cell_type": "markdown",
      "source": [
        "The soup object support a lot of methods to search and get elements from the tree, for example:\n",
        "`\n",
        ".select(),\n",
        ".select_one(),\n",
        ".find_all(),\n",
        "...\n",
        "`\n",
        " You can pass the string, regular expression and also True to the above functions.\n",
        "\n",
        " Read more: https://www.crummy.com/software/BeautifulSoup/bs4/doc/#searching-the-tree\n"
      ],
      "metadata": {
        "id": "MDCabEGcIpZZ"
      }
    },
    {
      "cell_type": "code",
      "source": [
        "tables = soup.select(\"table\")"
      ],
      "metadata": {
        "id": "TMcdQfsJQsLb"
      },
      "execution_count": 43,
      "outputs": []
    },
    {
      "cell_type": "markdown",
      "source": [
        "### Step 6: Identify the target table for the country list"
      ],
      "metadata": {
        "id": "vQHJSux5VTIC"
      }
    },
    {
      "cell_type": "code",
      "source": [
        "table = tables[0]"
      ],
      "metadata": {
        "id": "kTGE6pNC-N7a"
      },
      "execution_count": 44,
      "outputs": []
    },
    {
      "cell_type": "code",
      "source": [
        "## you can confirm by pretty print the table\n",
        "# print(table.prettify())"
      ],
      "metadata": {
        "id": "qhvzRhcXz8HZ"
      },
      "execution_count": 45,
      "outputs": []
    },
    {
      "cell_type": "markdown",
      "source": [
        "### Step 7: Parse the table into a pandas dataframe"
      ],
      "metadata": {
        "id": "ssm2_rQWjpbO"
      }
    },
    {
      "cell_type": "code",
      "source": [
        "df = pd.DataFrame(columns=['Location', 'Population_2022', 'Population_2023','Change','Continental'])\n",
        "\n",
        "for index, row in enumerate(table.find(\"tbody\").find_all(\"tr\")):\n",
        "  if index > 0:\n",
        "\n",
        "    col = row.find_all(\"td\")\n",
        "\n",
        "    # store the\n",
        "    location = col[0].text\n",
        "    population_2022 = col[1].text\n",
        "    population_2023 = col[2].text\n",
        "    change = col[3].text\n",
        "    continental = col[4].text\n",
        "\n",
        "    # # create a temp dataframe\n",
        "    tmp_row = {\n",
        "        'Location' : location,\n",
        "        'Population_2022': population_2022,\n",
        "        'Population_2023': population_2023,\n",
        "        'Change':change,\n",
        "        'Continental':continental,\n",
        "    }\n",
        "    tmp_df = pd.DataFrame([tmp_row])\n",
        "\n",
        "    # # append the temp dataframe to the main data frame\n",
        "    df = pd.concat([df,tmp_df], ignore_index=True)\n",
        "\n",
        "# #drop first row\n",
        "df.drop(index=df.index[0], axis=0, inplace=True)\n",
        "\n"
      ],
      "metadata": {
        "id": "OoXh_iAG62VN"
      },
      "execution_count": 46,
      "outputs": []
    },
    {
      "cell_type": "markdown",
      "source": [
        "### Bouns: Visualization recommendation from Google Colab (Optional)"
      ],
      "metadata": {
        "id": "UO-7thrEj2Lv"
      }
    },
    {
      "cell_type": "markdown",
      "source": [
        "When you view the dataframe variable in Colab, it will"
      ],
      "metadata": {
        "id": "jRb8pJtF1OSj"
      }
    },
    {
      "cell_type": "code",
      "source": [
        "df"
      ],
      "metadata": {
        "id": "OoPT3SF31MiT",
        "colab": {
          "base_uri": "https://localhost:8080/",
          "height": 589
        },
        "outputId": "d9bc2e21-9761-46f5-c487-6e96862f92b2"
      },
      "execution_count": 47,
      "outputs": [
        {
          "output_type": "execute_result",
          "data": {
            "text/plain": [
              "                               Location Population_2022 Population_2023  \\\n",
              "1                                 India   1,417,173,173   1,428,627,663   \n",
              "2                              China[a]   1,425,887,337   1,425,671,352   \n",
              "3                         United States     338,289,857     339,996,564   \n",
              "4                             Indonesia     275,501,339     277,534,123   \n",
              "5                              Pakistan     235,824,862     240,485,658   \n",
              "..                                  ...             ...             ...   \n",
              "234   Falkland Islands (United Kingdom)           3,780           3,791   \n",
              "235                                Niue           1,934           1,935   \n",
              "236               Tokelau (New Zealand)           1,871           1,893   \n",
              "237                     Vatican City[x]             510             518   \n",
              "238   Pitcairn Islands (United Kingdom)             N/A             N/A   \n",
              "\n",
              "     Change Continental  \n",
              "1    +0.81%        Asia  \n",
              "2    −0.02%        Asia  \n",
              "3    +0.50%    Americas  \n",
              "4    +0.74%        Asia  \n",
              "5    +1.98%        Asia  \n",
              "..      ...         ...  \n",
              "234  +0.29%    Americas  \n",
              "235  +0.05%     Oceania  \n",
              "236  +1.18%     Oceania  \n",
              "237     N/A      Europe  \n",
              "238     N/A     Oceania  \n",
              "\n",
              "[238 rows x 5 columns]"
            ],
            "text/html": [
              "\n",
              "  <div id=\"df-b27e8057-c7b6-4227-a4d1-9c8988f616ea\" class=\"colab-df-container\">\n",
              "    <div>\n",
              "<style scoped>\n",
              "    .dataframe tbody tr th:only-of-type {\n",
              "        vertical-align: middle;\n",
              "    }\n",
              "\n",
              "    .dataframe tbody tr th {\n",
              "        vertical-align: top;\n",
              "    }\n",
              "\n",
              "    .dataframe thead th {\n",
              "        text-align: right;\n",
              "    }\n",
              "</style>\n",
              "<table border=\"1\" class=\"dataframe\">\n",
              "  <thead>\n",
              "    <tr style=\"text-align: right;\">\n",
              "      <th></th>\n",
              "      <th>Location</th>\n",
              "      <th>Population_2022</th>\n",
              "      <th>Population_2023</th>\n",
              "      <th>Change</th>\n",
              "      <th>Continental</th>\n",
              "    </tr>\n",
              "  </thead>\n",
              "  <tbody>\n",
              "    <tr>\n",
              "      <th>1</th>\n",
              "      <td>India</td>\n",
              "      <td>1,417,173,173</td>\n",
              "      <td>1,428,627,663</td>\n",
              "      <td>+0.81%</td>\n",
              "      <td>Asia</td>\n",
              "    </tr>\n",
              "    <tr>\n",
              "      <th>2</th>\n",
              "      <td>China[a]</td>\n",
              "      <td>1,425,887,337</td>\n",
              "      <td>1,425,671,352</td>\n",
              "      <td>−0.02%</td>\n",
              "      <td>Asia</td>\n",
              "    </tr>\n",
              "    <tr>\n",
              "      <th>3</th>\n",
              "      <td>United States</td>\n",
              "      <td>338,289,857</td>\n",
              "      <td>339,996,564</td>\n",
              "      <td>+0.50%</td>\n",
              "      <td>Americas</td>\n",
              "    </tr>\n",
              "    <tr>\n",
              "      <th>4</th>\n",
              "      <td>Indonesia</td>\n",
              "      <td>275,501,339</td>\n",
              "      <td>277,534,123</td>\n",
              "      <td>+0.74%</td>\n",
              "      <td>Asia</td>\n",
              "    </tr>\n",
              "    <tr>\n",
              "      <th>5</th>\n",
              "      <td>Pakistan</td>\n",
              "      <td>235,824,862</td>\n",
              "      <td>240,485,658</td>\n",
              "      <td>+1.98%</td>\n",
              "      <td>Asia</td>\n",
              "    </tr>\n",
              "    <tr>\n",
              "      <th>...</th>\n",
              "      <td>...</td>\n",
              "      <td>...</td>\n",
              "      <td>...</td>\n",
              "      <td>...</td>\n",
              "      <td>...</td>\n",
              "    </tr>\n",
              "    <tr>\n",
              "      <th>234</th>\n",
              "      <td>Falkland Islands (United Kingdom)</td>\n",
              "      <td>3,780</td>\n",
              "      <td>3,791</td>\n",
              "      <td>+0.29%</td>\n",
              "      <td>Americas</td>\n",
              "    </tr>\n",
              "    <tr>\n",
              "      <th>235</th>\n",
              "      <td>Niue</td>\n",
              "      <td>1,934</td>\n",
              "      <td>1,935</td>\n",
              "      <td>+0.05%</td>\n",
              "      <td>Oceania</td>\n",
              "    </tr>\n",
              "    <tr>\n",
              "      <th>236</th>\n",
              "      <td>Tokelau (New Zealand)</td>\n",
              "      <td>1,871</td>\n",
              "      <td>1,893</td>\n",
              "      <td>+1.18%</td>\n",
              "      <td>Oceania</td>\n",
              "    </tr>\n",
              "    <tr>\n",
              "      <th>237</th>\n",
              "      <td>Vatican City[x]</td>\n",
              "      <td>510</td>\n",
              "      <td>518</td>\n",
              "      <td>N/A</td>\n",
              "      <td>Europe</td>\n",
              "    </tr>\n",
              "    <tr>\n",
              "      <th>238</th>\n",
              "      <td>Pitcairn Islands (United Kingdom)</td>\n",
              "      <td>N/A</td>\n",
              "      <td>N/A</td>\n",
              "      <td>N/A</td>\n",
              "      <td>Oceania</td>\n",
              "    </tr>\n",
              "  </tbody>\n",
              "</table>\n",
              "<p>238 rows × 5 columns</p>\n",
              "</div>\n",
              "    <div class=\"colab-df-buttons\">\n",
              "\n",
              "  <div class=\"colab-df-container\">\n",
              "    <button class=\"colab-df-convert\" onclick=\"convertToInteractive('df-b27e8057-c7b6-4227-a4d1-9c8988f616ea')\"\n",
              "            title=\"Convert this dataframe to an interactive table.\"\n",
              "            style=\"display:none;\">\n",
              "\n",
              "  <svg xmlns=\"http://www.w3.org/2000/svg\" height=\"24px\" viewBox=\"0 -960 960 960\">\n",
              "    <path d=\"M120-120v-720h720v720H120Zm60-500h600v-160H180v160Zm220 220h160v-160H400v160Zm0 220h160v-160H400v160ZM180-400h160v-160H180v160Zm440 0h160v-160H620v160ZM180-180h160v-160H180v160Zm440 0h160v-160H620v160Z\"/>\n",
              "  </svg>\n",
              "    </button>\n",
              "\n",
              "  <style>\n",
              "    .colab-df-container {\n",
              "      display:flex;\n",
              "      gap: 12px;\n",
              "    }\n",
              "\n",
              "    .colab-df-convert {\n",
              "      background-color: #E8F0FE;\n",
              "      border: none;\n",
              "      border-radius: 50%;\n",
              "      cursor: pointer;\n",
              "      display: none;\n",
              "      fill: #1967D2;\n",
              "      height: 32px;\n",
              "      padding: 0 0 0 0;\n",
              "      width: 32px;\n",
              "    }\n",
              "\n",
              "    .colab-df-convert:hover {\n",
              "      background-color: #E2EBFA;\n",
              "      box-shadow: 0px 1px 2px rgba(60, 64, 67, 0.3), 0px 1px 3px 1px rgba(60, 64, 67, 0.15);\n",
              "      fill: #174EA6;\n",
              "    }\n",
              "\n",
              "    .colab-df-buttons div {\n",
              "      margin-bottom: 4px;\n",
              "    }\n",
              "\n",
              "    [theme=dark] .colab-df-convert {\n",
              "      background-color: #3B4455;\n",
              "      fill: #D2E3FC;\n",
              "    }\n",
              "\n",
              "    [theme=dark] .colab-df-convert:hover {\n",
              "      background-color: #434B5C;\n",
              "      box-shadow: 0px 1px 3px 1px rgba(0, 0, 0, 0.15);\n",
              "      filter: drop-shadow(0px 1px 2px rgba(0, 0, 0, 0.3));\n",
              "      fill: #FFFFFF;\n",
              "    }\n",
              "  </style>\n",
              "\n",
              "    <script>\n",
              "      const buttonEl =\n",
              "        document.querySelector('#df-b27e8057-c7b6-4227-a4d1-9c8988f616ea button.colab-df-convert');\n",
              "      buttonEl.style.display =\n",
              "        google.colab.kernel.accessAllowed ? 'block' : 'none';\n",
              "\n",
              "      async function convertToInteractive(key) {\n",
              "        const element = document.querySelector('#df-b27e8057-c7b6-4227-a4d1-9c8988f616ea');\n",
              "        const dataTable =\n",
              "          await google.colab.kernel.invokeFunction('convertToInteractive',\n",
              "                                                    [key], {});\n",
              "        if (!dataTable) return;\n",
              "\n",
              "        const docLinkHtml = 'Like what you see? Visit the ' +\n",
              "          '<a target=\"_blank\" href=https://colab.research.google.com/notebooks/data_table.ipynb>data table notebook</a>'\n",
              "          + ' to learn more about interactive tables.';\n",
              "        element.innerHTML = '';\n",
              "        dataTable['output_type'] = 'display_data';\n",
              "        await google.colab.output.renderOutput(dataTable, element);\n",
              "        const docLink = document.createElement('div');\n",
              "        docLink.innerHTML = docLinkHtml;\n",
              "        element.appendChild(docLink);\n",
              "      }\n",
              "    </script>\n",
              "  </div>\n",
              "\n",
              "\n",
              "<div id=\"df-7bf8a30f-b393-4c31-97af-d41f9eea4e85\">\n",
              "  <button class=\"colab-df-quickchart\" onclick=\"quickchart('df-7bf8a30f-b393-4c31-97af-d41f9eea4e85')\"\n",
              "            title=\"Suggest charts\"\n",
              "            style=\"display:none;\">\n",
              "\n",
              "<svg xmlns=\"http://www.w3.org/2000/svg\" height=\"24px\"viewBox=\"0 0 24 24\"\n",
              "     width=\"24px\">\n",
              "    <g>\n",
              "        <path d=\"M19 3H5c-1.1 0-2 .9-2 2v14c0 1.1.9 2 2 2h14c1.1 0 2-.9 2-2V5c0-1.1-.9-2-2-2zM9 17H7v-7h2v7zm4 0h-2V7h2v10zm4 0h-2v-4h2v4z\"/>\n",
              "    </g>\n",
              "</svg>\n",
              "  </button>\n",
              "\n",
              "<style>\n",
              "  .colab-df-quickchart {\n",
              "      --bg-color: #E8F0FE;\n",
              "      --fill-color: #1967D2;\n",
              "      --hover-bg-color: #E2EBFA;\n",
              "      --hover-fill-color: #174EA6;\n",
              "      --disabled-fill-color: #AAA;\n",
              "      --disabled-bg-color: #DDD;\n",
              "  }\n",
              "\n",
              "  [theme=dark] .colab-df-quickchart {\n",
              "      --bg-color: #3B4455;\n",
              "      --fill-color: #D2E3FC;\n",
              "      --hover-bg-color: #434B5C;\n",
              "      --hover-fill-color: #FFFFFF;\n",
              "      --disabled-bg-color: #3B4455;\n",
              "      --disabled-fill-color: #666;\n",
              "  }\n",
              "\n",
              "  .colab-df-quickchart {\n",
              "    background-color: var(--bg-color);\n",
              "    border: none;\n",
              "    border-radius: 50%;\n",
              "    cursor: pointer;\n",
              "    display: none;\n",
              "    fill: var(--fill-color);\n",
              "    height: 32px;\n",
              "    padding: 0;\n",
              "    width: 32px;\n",
              "  }\n",
              "\n",
              "  .colab-df-quickchart:hover {\n",
              "    background-color: var(--hover-bg-color);\n",
              "    box-shadow: 0 1px 2px rgba(60, 64, 67, 0.3), 0 1px 3px 1px rgba(60, 64, 67, 0.15);\n",
              "    fill: var(--button-hover-fill-color);\n",
              "  }\n",
              "\n",
              "  .colab-df-quickchart-complete:disabled,\n",
              "  .colab-df-quickchart-complete:disabled:hover {\n",
              "    background-color: var(--disabled-bg-color);\n",
              "    fill: var(--disabled-fill-color);\n",
              "    box-shadow: none;\n",
              "  }\n",
              "\n",
              "  .colab-df-spinner {\n",
              "    border: 2px solid var(--fill-color);\n",
              "    border-color: transparent;\n",
              "    border-bottom-color: var(--fill-color);\n",
              "    animation:\n",
              "      spin 1s steps(1) infinite;\n",
              "  }\n",
              "\n",
              "  @keyframes spin {\n",
              "    0% {\n",
              "      border-color: transparent;\n",
              "      border-bottom-color: var(--fill-color);\n",
              "      border-left-color: var(--fill-color);\n",
              "    }\n",
              "    20% {\n",
              "      border-color: transparent;\n",
              "      border-left-color: var(--fill-color);\n",
              "      border-top-color: var(--fill-color);\n",
              "    }\n",
              "    30% {\n",
              "      border-color: transparent;\n",
              "      border-left-color: var(--fill-color);\n",
              "      border-top-color: var(--fill-color);\n",
              "      border-right-color: var(--fill-color);\n",
              "    }\n",
              "    40% {\n",
              "      border-color: transparent;\n",
              "      border-right-color: var(--fill-color);\n",
              "      border-top-color: var(--fill-color);\n",
              "    }\n",
              "    60% {\n",
              "      border-color: transparent;\n",
              "      border-right-color: var(--fill-color);\n",
              "    }\n",
              "    80% {\n",
              "      border-color: transparent;\n",
              "      border-right-color: var(--fill-color);\n",
              "      border-bottom-color: var(--fill-color);\n",
              "    }\n",
              "    90% {\n",
              "      border-color: transparent;\n",
              "      border-bottom-color: var(--fill-color);\n",
              "    }\n",
              "  }\n",
              "</style>\n",
              "\n",
              "  <script>\n",
              "    async function quickchart(key) {\n",
              "      const quickchartButtonEl =\n",
              "        document.querySelector('#' + key + ' button');\n",
              "      quickchartButtonEl.disabled = true;  // To prevent multiple clicks.\n",
              "      quickchartButtonEl.classList.add('colab-df-spinner');\n",
              "      try {\n",
              "        const charts = await google.colab.kernel.invokeFunction(\n",
              "            'suggestCharts', [key], {});\n",
              "      } catch (error) {\n",
              "        console.error('Error during call to suggestCharts:', error);\n",
              "      }\n",
              "      quickchartButtonEl.classList.remove('colab-df-spinner');\n",
              "      quickchartButtonEl.classList.add('colab-df-quickchart-complete');\n",
              "    }\n",
              "    (() => {\n",
              "      let quickchartButtonEl =\n",
              "        document.querySelector('#df-7bf8a30f-b393-4c31-97af-d41f9eea4e85 button');\n",
              "      quickchartButtonEl.style.display =\n",
              "        google.colab.kernel.accessAllowed ? 'block' : 'none';\n",
              "    })();\n",
              "  </script>\n",
              "</div>\n",
              "    </div>\n",
              "  </div>\n"
            ],
            "application/vnd.google.colaboratory.intrinsic+json": {
              "type": "dataframe",
              "variable_name": "df",
              "summary": "{\n  \"name\": \"df\",\n  \"rows\": 238,\n  \"fields\": [\n    {\n      \"column\": \"Location\",\n      \"properties\": {\n        \"dtype\": \"string\",\n        \"num_unique_values\": 238,\n        \"samples\": [\n          \"\\u00a0Slovakia\",\n          \"\\u00a0Vietnam\",\n          \"\\u00a0Turks and Caicos Islands (United Kingdom)\"\n        ],\n        \"semantic_type\": \"\",\n        \"description\": \"\"\n      }\n    },\n    {\n      \"column\": \"Population_2022\",\n      \"properties\": {\n        \"dtype\": \"string\",\n        \"num_unique_values\": 238,\n        \"samples\": [\n          \"5,643,453\",\n          \"98,186,856\",\n          \"45,703\"\n        ],\n        \"semantic_type\": \"\",\n        \"description\": \"\"\n      }\n    },\n    {\n      \"column\": \"Population_2023\",\n      \"properties\": {\n        \"dtype\": \"string\",\n        \"num_unique_values\": 238,\n        \"samples\": [\n          \"5,795,199\",\n          \"98,858,950\",\n          \"46,062\"\n        ],\n        \"semantic_type\": \"\",\n        \"description\": \"\"\n      }\n    },\n    {\n      \"column\": \"Change\",\n      \"properties\": {\n        \"dtype\": \"string\",\n        \"num_unique_values\": 181,\n        \"samples\": [\n          \"+0.15%\",\n          \"+2.24%\",\n          \"+2.49%\"\n        ],\n        \"semantic_type\": \"\",\n        \"description\": \"\"\n      }\n    },\n    {\n      \"column\": \"Continental\",\n      \"properties\": {\n        \"dtype\": \"category\",\n        \"num_unique_values\": 5,\n        \"samples\": [\n          \"Americas\",\n          \"Oceania\",\n          \"Africa\"\n        ],\n        \"semantic_type\": \"\",\n        \"description\": \"\"\n      }\n    }\n  ]\n}"
            }
          },
          "metadata": {},
          "execution_count": 47
        }
      ]
    },
    {
      "cell_type": "markdown",
      "source": [
        "## Part 4 Storing and read the data again"
      ],
      "metadata": {
        "id": "HkQssYVKkXfk"
      }
    },
    {
      "cell_type": "markdown",
      "source": [
        "By taking these step, we can mount the google drive to read and write files."
      ],
      "metadata": {
        "id": "BwJB9xz7kfJ0"
      }
    },
    {
      "cell_type": "code",
      "source": [
        "df.to_csv(\"drive/MyDrive/Colab Notebooks/countries_population_united_nations.csv\", index=False)"
      ],
      "metadata": {
        "id": "ujeFhPM17Ne2",
        "colab": {
          "base_uri": "https://localhost:8080/",
          "height": 384
        },
        "outputId": "9f8650f0-aaa0-4463-8f3f-428cb359085a"
      },
      "execution_count": 48,
      "outputs": [
        {
          "output_type": "error",
          "ename": "OSError",
          "evalue": "Cannot save file into a non-existent directory: 'drive/MyDrive/Colab Notebooks'",
          "traceback": [
            "\u001b[0;31m---------------------------------------------------------------------------\u001b[0m",
            "\u001b[0;31mOSError\u001b[0m                                   Traceback (most recent call last)",
            "\u001b[0;32m<ipython-input-48-e18a5c091a74>\u001b[0m in \u001b[0;36m<cell line: 1>\u001b[0;34m()\u001b[0m\n\u001b[0;32m----> 1\u001b[0;31m \u001b[0mdf\u001b[0m\u001b[0;34m.\u001b[0m\u001b[0mto_csv\u001b[0m\u001b[0;34m(\u001b[0m\u001b[0;34m\"drive/MyDrive/Colab Notebooks/countries_population_united_nations.csv\"\u001b[0m\u001b[0;34m,\u001b[0m \u001b[0mindex\u001b[0m\u001b[0;34m=\u001b[0m\u001b[0;32mFalse\u001b[0m\u001b[0;34m)\u001b[0m\u001b[0;34m\u001b[0m\u001b[0;34m\u001b[0m\u001b[0m\n\u001b[0m",
            "\u001b[0;32m/usr/local/lib/python3.10/dist-packages/pandas/util/_decorators.py\u001b[0m in \u001b[0;36mwrapper\u001b[0;34m(*args, **kwargs)\u001b[0m\n\u001b[1;32m    209\u001b[0m                 \u001b[0;32melse\u001b[0m\u001b[0;34m:\u001b[0m\u001b[0;34m\u001b[0m\u001b[0;34m\u001b[0m\u001b[0m\n\u001b[1;32m    210\u001b[0m                     \u001b[0mkwargs\u001b[0m\u001b[0;34m[\u001b[0m\u001b[0mnew_arg_name\u001b[0m\u001b[0;34m]\u001b[0m \u001b[0;34m=\u001b[0m \u001b[0mnew_arg_value\u001b[0m\u001b[0;34m\u001b[0m\u001b[0;34m\u001b[0m\u001b[0m\n\u001b[0;32m--> 211\u001b[0;31m             \u001b[0;32mreturn\u001b[0m \u001b[0mfunc\u001b[0m\u001b[0;34m(\u001b[0m\u001b[0;34m*\u001b[0m\u001b[0margs\u001b[0m\u001b[0;34m,\u001b[0m \u001b[0;34m**\u001b[0m\u001b[0mkwargs\u001b[0m\u001b[0;34m)\u001b[0m\u001b[0;34m\u001b[0m\u001b[0;34m\u001b[0m\u001b[0m\n\u001b[0m\u001b[1;32m    212\u001b[0m \u001b[0;34m\u001b[0m\u001b[0m\n\u001b[1;32m    213\u001b[0m         \u001b[0;32mreturn\u001b[0m \u001b[0mcast\u001b[0m\u001b[0;34m(\u001b[0m\u001b[0mF\u001b[0m\u001b[0;34m,\u001b[0m \u001b[0mwrapper\u001b[0m\u001b[0;34m)\u001b[0m\u001b[0;34m\u001b[0m\u001b[0;34m\u001b[0m\u001b[0m\n",
            "\u001b[0;32m/usr/local/lib/python3.10/dist-packages/pandas/core/generic.py\u001b[0m in \u001b[0;36mto_csv\u001b[0;34m(self, path_or_buf, sep, na_rep, float_format, columns, header, index, index_label, mode, encoding, compression, quoting, quotechar, lineterminator, chunksize, date_format, doublequote, escapechar, decimal, errors, storage_options)\u001b[0m\n\u001b[1;32m   3718\u001b[0m         )\n\u001b[1;32m   3719\u001b[0m \u001b[0;34m\u001b[0m\u001b[0m\n\u001b[0;32m-> 3720\u001b[0;31m         return DataFrameRenderer(formatter).to_csv(\n\u001b[0m\u001b[1;32m   3721\u001b[0m             \u001b[0mpath_or_buf\u001b[0m\u001b[0;34m,\u001b[0m\u001b[0;34m\u001b[0m\u001b[0;34m\u001b[0m\u001b[0m\n\u001b[1;32m   3722\u001b[0m             \u001b[0mlineterminator\u001b[0m\u001b[0;34m=\u001b[0m\u001b[0mlineterminator\u001b[0m\u001b[0;34m,\u001b[0m\u001b[0;34m\u001b[0m\u001b[0;34m\u001b[0m\u001b[0m\n",
            "\u001b[0;32m/usr/local/lib/python3.10/dist-packages/pandas/util/_decorators.py\u001b[0m in \u001b[0;36mwrapper\u001b[0;34m(*args, **kwargs)\u001b[0m\n\u001b[1;32m    209\u001b[0m                 \u001b[0;32melse\u001b[0m\u001b[0;34m:\u001b[0m\u001b[0;34m\u001b[0m\u001b[0;34m\u001b[0m\u001b[0m\n\u001b[1;32m    210\u001b[0m                     \u001b[0mkwargs\u001b[0m\u001b[0;34m[\u001b[0m\u001b[0mnew_arg_name\u001b[0m\u001b[0;34m]\u001b[0m \u001b[0;34m=\u001b[0m \u001b[0mnew_arg_value\u001b[0m\u001b[0;34m\u001b[0m\u001b[0;34m\u001b[0m\u001b[0m\n\u001b[0;32m--> 211\u001b[0;31m             \u001b[0;32mreturn\u001b[0m \u001b[0mfunc\u001b[0m\u001b[0;34m(\u001b[0m\u001b[0;34m*\u001b[0m\u001b[0margs\u001b[0m\u001b[0;34m,\u001b[0m \u001b[0;34m**\u001b[0m\u001b[0mkwargs\u001b[0m\u001b[0;34m)\u001b[0m\u001b[0;34m\u001b[0m\u001b[0;34m\u001b[0m\u001b[0m\n\u001b[0m\u001b[1;32m    212\u001b[0m \u001b[0;34m\u001b[0m\u001b[0m\n\u001b[1;32m    213\u001b[0m         \u001b[0;32mreturn\u001b[0m \u001b[0mcast\u001b[0m\u001b[0;34m(\u001b[0m\u001b[0mF\u001b[0m\u001b[0;34m,\u001b[0m \u001b[0mwrapper\u001b[0m\u001b[0;34m)\u001b[0m\u001b[0;34m\u001b[0m\u001b[0;34m\u001b[0m\u001b[0m\n",
            "\u001b[0;32m/usr/local/lib/python3.10/dist-packages/pandas/io/formats/format.py\u001b[0m in \u001b[0;36mto_csv\u001b[0;34m(self, path_or_buf, encoding, sep, columns, index_label, mode, compression, quoting, quotechar, lineterminator, chunksize, date_format, doublequote, escapechar, errors, storage_options)\u001b[0m\n\u001b[1;32m   1187\u001b[0m             \u001b[0mformatter\u001b[0m\u001b[0;34m=\u001b[0m\u001b[0mself\u001b[0m\u001b[0;34m.\u001b[0m\u001b[0mfmt\u001b[0m\u001b[0;34m,\u001b[0m\u001b[0;34m\u001b[0m\u001b[0;34m\u001b[0m\u001b[0m\n\u001b[1;32m   1188\u001b[0m         )\n\u001b[0;32m-> 1189\u001b[0;31m         \u001b[0mcsv_formatter\u001b[0m\u001b[0;34m.\u001b[0m\u001b[0msave\u001b[0m\u001b[0;34m(\u001b[0m\u001b[0;34m)\u001b[0m\u001b[0;34m\u001b[0m\u001b[0;34m\u001b[0m\u001b[0m\n\u001b[0m\u001b[1;32m   1190\u001b[0m \u001b[0;34m\u001b[0m\u001b[0m\n\u001b[1;32m   1191\u001b[0m         \u001b[0;32mif\u001b[0m \u001b[0mcreated_buffer\u001b[0m\u001b[0;34m:\u001b[0m\u001b[0;34m\u001b[0m\u001b[0;34m\u001b[0m\u001b[0m\n",
            "\u001b[0;32m/usr/local/lib/python3.10/dist-packages/pandas/io/formats/csvs.py\u001b[0m in \u001b[0;36msave\u001b[0;34m(self)\u001b[0m\n\u001b[1;32m    239\u001b[0m         \"\"\"\n\u001b[1;32m    240\u001b[0m         \u001b[0;31m# apply compression and byte/text conversion\u001b[0m\u001b[0;34m\u001b[0m\u001b[0;34m\u001b[0m\u001b[0m\n\u001b[0;32m--> 241\u001b[0;31m         with get_handle(\n\u001b[0m\u001b[1;32m    242\u001b[0m             \u001b[0mself\u001b[0m\u001b[0;34m.\u001b[0m\u001b[0mfilepath_or_buffer\u001b[0m\u001b[0;34m,\u001b[0m\u001b[0;34m\u001b[0m\u001b[0;34m\u001b[0m\u001b[0m\n\u001b[1;32m    243\u001b[0m             \u001b[0mself\u001b[0m\u001b[0;34m.\u001b[0m\u001b[0mmode\u001b[0m\u001b[0;34m,\u001b[0m\u001b[0;34m\u001b[0m\u001b[0;34m\u001b[0m\u001b[0m\n",
            "\u001b[0;32m/usr/local/lib/python3.10/dist-packages/pandas/io/common.py\u001b[0m in \u001b[0;36mget_handle\u001b[0;34m(path_or_buf, mode, encoding, compression, memory_map, is_text, errors, storage_options)\u001b[0m\n\u001b[1;32m    732\u001b[0m     \u001b[0;31m# Only for write methods\u001b[0m\u001b[0;34m\u001b[0m\u001b[0;34m\u001b[0m\u001b[0m\n\u001b[1;32m    733\u001b[0m     \u001b[0;32mif\u001b[0m \u001b[0;34m\"r\"\u001b[0m \u001b[0;32mnot\u001b[0m \u001b[0;32min\u001b[0m \u001b[0mmode\u001b[0m \u001b[0;32mand\u001b[0m \u001b[0mis_path\u001b[0m\u001b[0;34m:\u001b[0m\u001b[0;34m\u001b[0m\u001b[0;34m\u001b[0m\u001b[0m\n\u001b[0;32m--> 734\u001b[0;31m         \u001b[0mcheck_parent_directory\u001b[0m\u001b[0;34m(\u001b[0m\u001b[0mstr\u001b[0m\u001b[0;34m(\u001b[0m\u001b[0mhandle\u001b[0m\u001b[0;34m)\u001b[0m\u001b[0;34m)\u001b[0m\u001b[0;34m\u001b[0m\u001b[0;34m\u001b[0m\u001b[0m\n\u001b[0m\u001b[1;32m    735\u001b[0m \u001b[0;34m\u001b[0m\u001b[0m\n\u001b[1;32m    736\u001b[0m     \u001b[0;32mif\u001b[0m \u001b[0mcompression\u001b[0m\u001b[0;34m:\u001b[0m\u001b[0;34m\u001b[0m\u001b[0;34m\u001b[0m\u001b[0m\n",
            "\u001b[0;32m/usr/local/lib/python3.10/dist-packages/pandas/io/common.py\u001b[0m in \u001b[0;36mcheck_parent_directory\u001b[0;34m(path)\u001b[0m\n\u001b[1;32m    595\u001b[0m     \u001b[0mparent\u001b[0m \u001b[0;34m=\u001b[0m \u001b[0mPath\u001b[0m\u001b[0;34m(\u001b[0m\u001b[0mpath\u001b[0m\u001b[0;34m)\u001b[0m\u001b[0;34m.\u001b[0m\u001b[0mparent\u001b[0m\u001b[0;34m\u001b[0m\u001b[0;34m\u001b[0m\u001b[0m\n\u001b[1;32m    596\u001b[0m     \u001b[0;32mif\u001b[0m \u001b[0;32mnot\u001b[0m \u001b[0mparent\u001b[0m\u001b[0;34m.\u001b[0m\u001b[0mis_dir\u001b[0m\u001b[0;34m(\u001b[0m\u001b[0;34m)\u001b[0m\u001b[0;34m:\u001b[0m\u001b[0;34m\u001b[0m\u001b[0;34m\u001b[0m\u001b[0m\n\u001b[0;32m--> 597\u001b[0;31m         \u001b[0;32mraise\u001b[0m \u001b[0mOSError\u001b[0m\u001b[0;34m(\u001b[0m\u001b[0;34mrf\"Cannot save file into a non-existent directory: '{parent}'\"\u001b[0m\u001b[0;34m)\u001b[0m\u001b[0;34m\u001b[0m\u001b[0;34m\u001b[0m\u001b[0m\n\u001b[0m\u001b[1;32m    598\u001b[0m \u001b[0;34m\u001b[0m\u001b[0m\n\u001b[1;32m    599\u001b[0m \u001b[0;34m\u001b[0m\u001b[0m\n",
            "\u001b[0;31mOSError\u001b[0m: Cannot save file into a non-existent directory: 'drive/MyDrive/Colab Notebooks'"
          ]
        }
      ]
    },
    {
      "cell_type": "code",
      "source": [
        "df2 = pd.read_csv(\"drive/MyDrive/Colab Notebooks/countries_population_united_nations.csv\",index_col=False)"
      ],
      "metadata": {
        "id": "mpi0l9IR8hCQ"
      },
      "execution_count": null,
      "outputs": []
    },
    {
      "cell_type": "code",
      "source": [
        "df2"
      ],
      "metadata": {
        "id": "OL38JZg7krh1"
      },
      "execution_count": null,
      "outputs": []
    },
    {
      "cell_type": "markdown",
      "source": [
        "# Apart from static web page, A demo requires human action simulation"
      ],
      "metadata": {
        "id": "8PFiiC7n8Ycx"
      }
    },
    {
      "cell_type": "markdown",
      "source": [
        "### Scenario 2\n",
        "\n",
        "Your boss asked you to build web scraper to get the Harry potter charater's details from wikipedia by searching harry potter and click the character link on the result page."
      ],
      "metadata": {
        "id": "pVpRU99y9g2z"
      }
    },
    {
      "cell_type": "markdown",
      "source": [
        "### Let's define steps\n",
        "\n",
        "1. imports the necessary libraries from Selenium.\n",
        "2. sets up the web driver for Chrome, providing the path to the Chrome driver executable.\n",
        "3. defines the URL and navigates to the Wikipedia website.\n",
        "4. find the search bar element and type \"harry potter\", then press the enter\n",
        "5. check the current url and print the screenshot in base64 format\n",
        "6. find the first url contain \"character\", and then click it\n",
        "7. check the current url and print the screenshot in base64 format again\n",
        "8. quits the web driver to close the browser."
      ],
      "metadata": {
        "id": "xrpuPA6L9lnX"
      }
    },
    {
      "cell_type": "markdown",
      "source": [
        "## Step 0: Setup web driver before using selenium"
      ],
      "metadata": {
        "id": "dDfoIU_m_YIy"
      }
    },
    {
      "cell_type": "code",
      "source": [
        "# Set up for running selenium in Google Colab\n",
        "## You don't need to run this code if you do it in Jupyter notebook, or other local Python setting\n",
        "%%shell\n",
        "sudo apt -y update\n",
        "sudo apt install -y wget curl unzip\n",
        "wget http://archive.ubuntu.com/ubuntu/pool/main/libu/libu2f-host/libu2f-udev_1.1.4-1_all.deb\n",
        "dpkg -i libu2f-udev_1.1.4-1_all.deb\n",
        "wget https://dl.google.com/linux/direct/google-chrome-stable_current_amd64.deb\n",
        "dpkg -i google-chrome-stable_current_amd64.deb\n",
        "CHROME_DRIVER_VERSION=`curl -sS chromedriver.storage.googleapis.com/LATEST_RELEASE`\n",
        "wget -N https://chromedriver.storage.googleapis.com/$CHROME_DRIVER_VERSION/chromedriver_linux64.zip -P /tmp/\n",
        "unzip -o /tmp/chromedriver_linux64.zip -d /tmp/\n",
        "chmod +x /tmp/chromedriver\n",
        "mv /tmp/chromedriver /usr/local/bin/chromedriver\n",
        "pip install selenium"
      ],
      "metadata": {
        "id": "Tg9d3nuheb7C"
      },
      "execution_count": null,
      "outputs": []
    },
    {
      "cell_type": "code",
      "source": [
        "# fix the version compatibitable issue by installing chromedriver-autoinstaller\n",
        "!pip install chromedriver-autoinstaller\n",
        "\n",
        "# add the driver to the sys path so selenium can find the driver\n",
        "import sys\n",
        "sys.path.insert(0,'/usr/lib/chromium-browser/chromedriver')"
      ],
      "metadata": {
        "id": "DpcItTlsDKI1"
      },
      "execution_count": null,
      "outputs": []
    },
    {
      "cell_type": "markdown",
      "source": [
        "**Test our setup by getting the page title from wikipedia**"
      ],
      "metadata": {
        "id": "wXJWOlddBxq-"
      }
    },
    {
      "cell_type": "code",
      "source": [
        "import time\n",
        "import pandas as pd\n",
        "from bs4 import BeautifulSoup\n",
        "from selenium import webdriver\n",
        "import chromedriver_autoinstaller\n",
        "\n",
        "# setup chrome options\n",
        "chrome_options = webdriver.ChromeOptions()\n",
        "chrome_options.add_argument('--headless') # ensure GUI is off\n",
        "chrome_options.add_argument('--no-sandbox')\n",
        "chrome_options.add_argument('--disable-dev-shm-usage')\n",
        "\n",
        "# # set path to chromedriver as per your configuration\n",
        "chromedriver_autoinstaller.install()\n",
        "\n",
        "# set the target URL\n",
        "url = \"https://wikipedia.org/\"\n",
        "\n",
        "# set up the webdriver\n",
        "driver = webdriver.Chrome(options=chrome_options)\n",
        "driver.get(url)\n",
        "print(driver.title)\n",
        "driver.quit()"
      ],
      "metadata": {
        "id": "hOaItF8S9feq"
      },
      "execution_count": null,
      "outputs": []
    },
    {
      "cell_type": "markdown",
      "source": [
        "## Step 1: Import the necessary libraries"
      ],
      "metadata": {
        "id": "_d9o_c3XCztU"
      }
    },
    {
      "cell_type": "code",
      "source": [
        "from selenium import webdriver\n",
        "from selenium.webdriver.common.by import By\n",
        "from selenium.webdriver.common.keys import Keys\n",
        "import chromedriver_autoinstaller\n",
        "from IPython import display\n",
        "from base64 import b64decode\n",
        "import pandas as pd"
      ],
      "metadata": {
        "id": "3VbezBVpBuq3"
      },
      "execution_count": null,
      "outputs": []
    },
    {
      "cell_type": "markdown",
      "source": [
        "## Step 2: Set up the web driver"
      ],
      "metadata": {
        "id": "tHKw4wvMVzhb"
      }
    },
    {
      "cell_type": "code",
      "source": [
        "# setup chrome options\n",
        "chrome_options = webdriver.ChromeOptions()\n",
        "chrome_options.add_argument('--headless') # ensure GUI is off\n",
        "chrome_options.add_argument('--no-sandbox')\n",
        "chrome_options.add_argument('--disable-dev-shm-usage')\n",
        "\n",
        "# set path to chromedriver as per your configuration\n",
        "chromedriver_autoinstaller.install()\n",
        "\n",
        "# set up the webdriver\n",
        "driver = webdriver.Chrome(options=chrome_options)"
      ],
      "metadata": {
        "id": "ia3JfU53DAo_"
      },
      "execution_count": null,
      "outputs": []
    },
    {
      "cell_type": "markdown",
      "source": [
        "## Step 3: Define the URL and navigate to the Wikipedia website"
      ],
      "metadata": {
        "id": "u0EtKovmV6H6"
      }
    },
    {
      "cell_type": "code",
      "source": [
        "# set the target URL\n",
        "url = \"https://www.wikipedia.org/\"\n",
        "\n",
        "# fetch the url\n",
        "driver.get(url)\n"
      ],
      "metadata": {
        "id": "gQbOfTHQDgVo"
      },
      "execution_count": null,
      "outputs": []
    },
    {
      "cell_type": "code",
      "source": [
        "# check the webpage title\n",
        "driver.title"
      ],
      "metadata": {
        "id": "cX1NU23hMgWV"
      },
      "execution_count": null,
      "outputs": []
    },
    {
      "cell_type": "markdown",
      "source": [
        "## Step 4: Find the search bar element and search for \"harry potter\""
      ],
      "metadata": {
        "id": "C3ZLJCiEWCs7"
      }
    },
    {
      "cell_type": "code",
      "source": [
        "search_bar = driver.find_element(By.ID, \"searchInput\")"
      ],
      "metadata": {
        "id": "lUoynDlAHsn8"
      },
      "execution_count": null,
      "outputs": []
    },
    {
      "cell_type": "code",
      "source": [
        "search_bar.send_keys(\"harry potter\")\n",
        "search_bar.send_keys(Keys.RETURN)"
      ],
      "metadata": {
        "id": "0ycRa2IyH4Ic"
      },
      "execution_count": null,
      "outputs": []
    },
    {
      "cell_type": "code",
      "source": [
        "# check the current url after sending the new action\n",
        "print(driver.current_url)"
      ],
      "metadata": {
        "id": "lHsbUkY5IEkX"
      },
      "execution_count": null,
      "outputs": []
    },
    {
      "cell_type": "code",
      "source": [
        "# take a screenshot and display in notebook\n",
        "screen_1_data = driver.get_screenshot_as_base64()\n",
        "display.Image(b64decode(screen_1_data))"
      ],
      "metadata": {
        "id": "DQBUSjSkRclZ"
      },
      "execution_count": null,
      "outputs": []
    },
    {
      "cell_type": "markdown",
      "source": [
        "## Step 7: Find the first URL containing \"character\" and click it"
      ],
      "metadata": {
        "id": "IcqwKpU-WfKU"
      }
    },
    {
      "cell_type": "code",
      "source": [
        "character_link =driver.find_element(By.PARTIAL_LINK_TEXT, \"character\")\n",
        "character_link.click()"
      ],
      "metadata": {
        "id": "_xnFFwNNPec0"
      },
      "execution_count": null,
      "outputs": []
    },
    {
      "cell_type": "code",
      "source": [
        "# check the current url after sending the new action\n",
        "print(driver.current_url)"
      ],
      "metadata": {
        "id": "rl5E5tQGPr09"
      },
      "execution_count": null,
      "outputs": []
    },
    {
      "cell_type": "code",
      "source": [
        "# take a screenshot and display in notebook\n",
        "screen_2_data = driver.get_screenshot_as_base64()\n",
        "display.Image(b64decode(screen_2_data))"
      ],
      "metadata": {
        "id": "26CK9cpwQy7q"
      },
      "execution_count": null,
      "outputs": []
    },
    {
      "cell_type": "markdown",
      "source": [
        "## Step 9: Find the `<p>` tags and store text content in a CSV file by pandas"
      ],
      "metadata": {
        "id": "YaNlhn5XWvfq"
      }
    },
    {
      "cell_type": "code",
      "source": [
        "paragraphs = driver.find_elements(By.TAG_NAME, \"p\")"
      ],
      "metadata": {
        "id": "HfWw0PYUUZgE"
      },
      "execution_count": null,
      "outputs": []
    },
    {
      "cell_type": "code",
      "source": [
        "# check the text collected, the text of a element need to be access by the .text method\n",
        "paragraphs[1].text"
      ],
      "metadata": {
        "id": "7jQ675NkUm_o"
      },
      "execution_count": null,
      "outputs": []
    },
    {
      "cell_type": "code",
      "source": [
        "data = []\n",
        "for paragraph in paragraphs:\n",
        "    data.append([paragraph.text])\n",
        "\n",
        "df = pd.DataFrame(data, columns=[\"Paragraph\"])\n",
        "\n",
        "df.to_csv(\"drive/MyDrive/Colab Notebooks/harry_potter_character_paragraphs.csv\", index=False, encoding=\"utf-8\")"
      ],
      "metadata": {
        "id": "YRU6a8ZWUhap"
      },
      "execution_count": null,
      "outputs": []
    },
    {
      "cell_type": "markdown",
      "source": [
        "## Step 10: Quit the web driver"
      ],
      "metadata": {
        "id": "NOOf6t-NW9Wp"
      }
    },
    {
      "cell_type": "code",
      "source": [
        "driver.quit()"
      ],
      "metadata": {
        "id": "L3FKsYXgW6d8"
      },
      "execution_count": null,
      "outputs": []
    },
    {
      "cell_type": "markdown",
      "source": [],
      "metadata": {
        "id": "F99lz-FZGIlz"
      }
    }
  ]
}